{
 "cells": [
  {
   "cell_type": "markdown",
   "id": "7ec98f23",
   "metadata": {},
   "source": [
    "### Questions 1\n",
    "\n",
    "Create a matrix of 5x5 with random integers, after that swap its first and last rows."
   ]
  },
  {
   "cell_type": "code",
   "execution_count": 129,
   "id": "fbab7daa",
   "metadata": {},
   "outputs": [
    {
     "name": "stdout",
     "output_type": "stream",
     "text": [
      "[[ 0  1  2  3  4]\n",
      " [ 5  6  7  8  9]\n",
      " [10 11 12 13 14]\n",
      " [15 16 17 18 19]\n",
      " [20 21 22 23 24]]\n"
     ]
    },
    {
     "data": {
      "text/plain": [
       "array([[20, 21, 22, 23, 24],\n",
       "       [ 5,  6,  7,  8,  9],\n",
       "       [10, 11, 12, 13, 14],\n",
       "       [15, 16, 17, 18, 19],\n",
       "       [ 0,  1,  2,  3,  4]])"
      ]
     },
     "execution_count": 129,
     "metadata": {},
     "output_type": "execute_result"
    }
   ],
   "source": [
    "import numpy as np\n",
    "\n",
    "arr = np.arange(25).reshape(5,5)\n",
    "print(arr)\n",
    "temp = np.copy(arr[0])\n",
    "arr[0] = arr[-1]\n",
    "arr[-1] = temp\n",
    "arr"
   ]
  },
  {
   "cell_type": "markdown",
   "id": "804d6649",
   "metadata": {},
   "source": [
    "### Question 2\n",
    "\n",
    "Create a 2D array, remove all rows that contain at least one zero."
   ]
  },
  {
   "cell_type": "code",
   "execution_count": 154,
   "id": "26e7b7e4",
   "metadata": {},
   "outputs": [
    {
     "data": {
      "text/plain": [
       "array([[1, 2, 3],\n",
       "       [4, 5, 6],\n",
       "       [7, 8, 9]])"
      ]
     },
     "execution_count": 154,
     "metadata": {},
     "output_type": "execute_result"
    }
   ],
   "source": [
    "arr = np.array([[1, 2, 3],\n",
    "                [4, 5, 6],\n",
    "                [7, 8, 9],\n",
    "                [10,0,11]])\n",
    "\n",
    "def remove_zero(array):\n",
    "    return np.array([row for row in array if all(element!=0 for element in row)])\n",
    "\n",
    "remove_zero(arr)"
   ]
  },
  {
   "cell_type": "markdown",
   "id": "2eaedae6",
   "metadata": {},
   "source": [
    "### Question 3\n",
    "\n",
    "Write a NumPy program to find the real and imaginary parts of an array of complex numbers.<br>\n",
    "Original array [ 1.00000000+0.j 0.70710678+0.70710678j]"
   ]
  },
  {
   "cell_type": "code",
   "execution_count": 38,
   "id": "5e2d4526",
   "metadata": {},
   "outputs": [
    {
     "name": "stdout",
     "output_type": "stream",
     "text": [
      "Real Part:  [1.         0.70710678]\n",
      "Imaginary Part:  [0.         0.70710678]\n"
     ]
    }
   ],
   "source": [
    "arr = np.array( [ 1.00000000+0.j , 0.70710678+0.70710678j])\n",
    "print(\"Real Part: \",arr.real)\n",
    "print(\"Imaginary Part: \",arr.imag)"
   ]
  },
  {
   "cell_type": "markdown",
   "id": "5d22a191",
   "metadata": {},
   "source": [
    "### Question 4\n",
    "\n",
    "Write a NumPy program to remove the duplicate elements of an array.<br>\n",
    "Original array:\n",
    "[10 10 20 20 30 30]\n"
   ]
  },
  {
   "cell_type": "code",
   "execution_count": 158,
   "id": "39a6deaf",
   "metadata": {},
   "outputs": [
    {
     "data": {
      "text/plain": [
       "array([10, 20, 30])"
      ]
     },
     "execution_count": 158,
     "metadata": {},
     "output_type": "execute_result"
    }
   ],
   "source": [
    "arr = np.array([10,10, 20, 20, 30, 30])\n",
    "\n",
    "def unique(array):\n",
    "    uniq = []\n",
    "    for x in array:\n",
    "        if x not in uniq:\n",
    "            uniq.append(x)\n",
    "    return np.array(uniq)\n",
    "unique(arr)          "
   ]
  },
  {
   "cell_type": "markdown",
   "id": "80f3538a",
   "metadata": {},
   "source": [
    "### Question 5\n",
    "\n",
    "Write a NumPy program to create a 3x3x3 array with random values."
   ]
  },
  {
   "cell_type": "code",
   "execution_count": 106,
   "id": "462e67c5",
   "metadata": {},
   "outputs": [
    {
     "data": {
      "text/plain": [
       "array([[[0.70390879, 0.02708638, 0.50982764],\n",
       "        [0.73881718, 0.44230611, 0.97161545],\n",
       "        [0.03704392, 0.64585984, 0.72044767]],\n",
       "\n",
       "       [[0.77873854, 0.87685931, 0.36911368],\n",
       "        [0.55073287, 0.90790552, 0.04103522],\n",
       "        [0.8685538 , 0.94163315, 0.45741308]],\n",
       "\n",
       "       [[0.71825723, 0.92690142, 0.79200192],\n",
       "        [0.09319918, 0.13287389, 0.35914048],\n",
       "        [0.75967126, 0.48505449, 0.3547175 ]]])"
      ]
     },
     "execution_count": 106,
     "metadata": {},
     "output_type": "execute_result"
    }
   ],
   "source": [
    "arr = np.random.random((3,3,3))\n",
    "arr"
   ]
  },
  {
   "cell_type": "markdown",
   "id": "abd66406",
   "metadata": {},
   "source": [
    "### Question 6\n",
    "\n",
    "Write a NumPy program to create a random vector of size 10 and sort it.\n",
    "<b>Note:<\\b> Do not use builtin sorting function"
   ]
  },
  {
   "cell_type": "code",
   "execution_count": 124,
   "id": "9282c068",
   "metadata": {},
   "outputs": [
    {
     "name": "stdout",
     "output_type": "stream",
     "text": [
      "Without sort:  [15  2 14 13  8  9 12  5 12  9]\n",
      "Sorted:  [ 2  5  8  9  9 12 12 13 14 15]\n"
     ]
    }
   ],
   "source": [
    "def selection_sort(n):\n",
    "    temp = 0\n",
    "    for i in range(len(n)):\n",
    "        for j in range(i+1,len(n)):\n",
    "            if n[i] > n[j]:\n",
    "                temp = n[i]\n",
    "                n[i] = n[j]\n",
    "                n[j] = temp\n",
    "    return n\n",
    "\n",
    "# list = [1,4,5,2]\n",
    "# sort = selection_sort(list)\n",
    "# print(sort)\n",
    "                \n",
    "arr = np.random.randint(1,20,10)\n",
    "print(\"Without sort: \",arr)\n",
    "print(\"Sorted: \",selection_sort(arr))\n"
   ]
  },
  {
   "cell_type": "markdown",
   "id": "e0c1e8bb",
   "metadata": {},
   "source": [
    "### Question 7\n",
    "\n",
    "Write a NumPy program to check two random arrays are equal or not."
   ]
  },
  {
   "cell_type": "code",
   "execution_count": 161,
   "id": "e9c571cc",
   "metadata": {},
   "outputs": [
    {
     "data": {
      "text/plain": [
       "False"
      ]
     },
     "execution_count": 161,
     "metadata": {},
     "output_type": "execute_result"
    }
   ],
   "source": [
    "arr1 = np.random.random(10)\n",
    "arr2 = np.random.random(10)\n",
    "np.allclose(arr1,arr2)"
   ]
  },
  {
   "cell_type": "markdown",
   "id": "234405fe",
   "metadata": {},
   "source": [
    "### Question 8 \n",
    "\n",
    "Write a NumPy program to sort a given array of shape 2 along the first axis, last axis and on flattened array.<br>\n",
    "\n",
    "Original array:<br>\n",
    "[[10 40]<br>\n",
    "[30 20]]"
   ]
  },
  {
   "cell_type": "code",
   "execution_count": 104,
   "id": "1b349b99",
   "metadata": {},
   "outputs": [
    {
     "name": "stdout",
     "output_type": "stream",
     "text": [
      "[[10 20]\n",
      " [30 40]]\n",
      "[[10 40]\n",
      " [20 30]]\n",
      "[10 20 30 40]\n"
     ]
    }
   ],
   "source": [
    "arr = np.array([[10,40],[30,20]])\n",
    "print(np.sort(arr,axis=0))\n",
    "print(np.sort(arr,axis=1))\n",
    "print(np.sort(arr,axis=None))"
   ]
  },
  {
   "cell_type": "markdown",
   "id": "2467ff08",
   "metadata": {},
   "source": [
    "### Question 9\n",
    "\n",
    "Write a NumPy program to get the floor, ceiling and truncated values of the elements of a numpy array.<br>\n",
    "\n",
    "Original array:<br>\n",
    "[-1.6 -1.5 -0.3 0.1 1.4 1.8 2. ]"
   ]
  },
  {
   "cell_type": "code",
   "execution_count": 80,
   "id": "8fa2a543",
   "metadata": {},
   "outputs": [
    {
     "name": "stdout",
     "output_type": "stream",
     "text": [
      "[-2. -2. -1.  0.  1.  1.  2.]\n",
      "[-1. -1. -0.  1.  2.  2.  2.]\n",
      "[-1. -1. -0.  0.  1.  1.  2.]\n"
     ]
    }
   ],
   "source": [
    "arr = np.array([-1.6, -1.5, -0.3, 0.1, 1.4, 1.8, 2.])\n",
    "print(np.floor(arr))\n",
    "print(np.ceil(arr))\n",
    "print(np.trunc(arr))"
   ]
  },
  {
   "cell_type": "markdown",
   "id": "9434026c",
   "metadata": {},
   "source": [
    "### Questions 10\n",
    "\n",
    "Write a NumPy program to display all the dates for the month of March, 2017"
   ]
  },
  {
   "cell_type": "code",
   "execution_count": 61,
   "id": "67332471",
   "metadata": {},
   "outputs": [
    {
     "data": {
      "text/plain": [
       "array(['2017-03-01', '2017-03-02', '2017-03-03', '2017-03-04',\n",
       "       '2017-03-05', '2017-03-06', '2017-03-07', '2017-03-08',\n",
       "       '2017-03-09', '2017-03-10', '2017-03-11', '2017-03-12',\n",
       "       '2017-03-13', '2017-03-14', '2017-03-15', '2017-03-16',\n",
       "       '2017-03-17', '2017-03-18', '2017-03-19', '2017-03-20',\n",
       "       '2017-03-21', '2017-03-22', '2017-03-23', '2017-03-24',\n",
       "       '2017-03-25', '2017-03-26', '2017-03-27', '2017-03-28',\n",
       "       '2017-03-29', '2017-03-30', '2017-03-31'], dtype='datetime64[D]')"
      ]
     },
     "execution_count": 61,
     "metadata": {},
     "output_type": "execute_result"
    }
   ],
   "source": [
    "dates = np.arange('2017-03','2017-04',dtype='datetime64[D]')\n",
    "dates"
   ]
  },
  {
   "cell_type": "markdown",
   "id": "34eb3ebf",
   "metadata": {},
   "source": [
    "### Question 11\n",
    "\n",
    "Write a NumPy program to create 24 python datetime.datetime objects (single object for every hour), and then put it in a numpy array."
   ]
  },
  {
   "cell_type": "code",
   "execution_count": 90,
   "id": "705b235f",
   "metadata": {},
   "outputs": [
    {
     "data": {
      "text/plain": [
       "array([datetime.datetime(2000, 1, 1, 0, 0),\n",
       "       datetime.datetime(2000, 1, 1, 1, 0),\n",
       "       datetime.datetime(2000, 1, 1, 2, 0),\n",
       "       datetime.datetime(2000, 1, 1, 3, 0),\n",
       "       datetime.datetime(2000, 1, 1, 4, 0),\n",
       "       datetime.datetime(2000, 1, 1, 5, 0),\n",
       "       datetime.datetime(2000, 1, 1, 6, 0),\n",
       "       datetime.datetime(2000, 1, 1, 7, 0),\n",
       "       datetime.datetime(2000, 1, 1, 8, 0),\n",
       "       datetime.datetime(2000, 1, 1, 9, 0),\n",
       "       datetime.datetime(2000, 1, 1, 10, 0),\n",
       "       datetime.datetime(2000, 1, 1, 11, 0),\n",
       "       datetime.datetime(2000, 1, 1, 12, 0),\n",
       "       datetime.datetime(2000, 1, 1, 13, 0),\n",
       "       datetime.datetime(2000, 1, 1, 14, 0),\n",
       "       datetime.datetime(2000, 1, 1, 15, 0),\n",
       "       datetime.datetime(2000, 1, 1, 16, 0),\n",
       "       datetime.datetime(2000, 1, 1, 17, 0),\n",
       "       datetime.datetime(2000, 1, 1, 18, 0),\n",
       "       datetime.datetime(2000, 1, 1, 19, 0),\n",
       "       datetime.datetime(2000, 1, 1, 20, 0),\n",
       "       datetime.datetime(2000, 1, 1, 21, 0),\n",
       "       datetime.datetime(2000, 1, 1, 22, 0),\n",
       "       datetime.datetime(2000, 1, 1, 23, 0)], dtype=object)"
      ]
     },
     "execution_count": 90,
     "metadata": {},
     "output_type": "execute_result"
    }
   ],
   "source": [
    "import datetime\n",
    "start = datetime.datetime(2000,1,1)\n",
    "datetime_arr = np.array([start + datetime.timedelta(hours=i) for i in range(24)])\n",
    "datetime_arr"
   ]
  },
  {
   "cell_type": "markdown",
   "id": "e34c59d5",
   "metadata": {},
   "source": [
    "### Question 12\n",
    "\n",
    "Write a NumPy program to concatenate element-wise two arrays of string.<br>\n",
    "<b>Example <\\b>\n",
    "Array1:<br>\n",
    "['Python' 'PHP']<br>\n",
    "Array2:<br>\n",
    "[' Java' ' C++']<br>\n",
    "new array:<br>\n",
    "['Python Java' 'PHP C++']<br>"
   ]
  },
  {
   "cell_type": "code",
   "execution_count": 94,
   "id": "cd6b480c",
   "metadata": {},
   "outputs": [
    {
     "data": {
      "text/plain": [
       "array(['Python Java', 'PHP C++'], dtype='<U11')"
      ]
     },
     "execution_count": 94,
     "metadata": {},
     "output_type": "execute_result"
    }
   ],
   "source": [
    "arr1 = np.array(['Python ','PHP '])\n",
    "arr2 = np.array(['Java','C++'])\n",
    "new_arr = np.char.add(arr1,arr2)\n",
    "new_arr"
   ]
  },
  {
   "cell_type": "code",
   "execution_count": null,
   "id": "5bdc8221",
   "metadata": {},
   "outputs": [],
   "source": []
  }
 ],
 "metadata": {
  "kernelspec": {
   "display_name": "Python 3 (ipykernel)",
   "language": "python",
   "name": "python3"
  },
  "language_info": {
   "codemirror_mode": {
    "name": "ipython",
    "version": 3
   },
   "file_extension": ".py",
   "mimetype": "text/x-python",
   "name": "python",
   "nbconvert_exporter": "python",
   "pygments_lexer": "ipython3",
   "version": "3.9.12"
  }
 },
 "nbformat": 4,
 "nbformat_minor": 5
}
