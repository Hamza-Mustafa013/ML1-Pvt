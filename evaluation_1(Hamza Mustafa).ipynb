{
 "cells": [
  {
   "cell_type": "markdown",
   "id": "3443b3de",
   "metadata": {},
   "source": [
    "### Question 1\n",
    "Given a list of integers nums and an integer target, return <i>indices of the two numbers such that they add up to target<i>. <br>\n",
    "\n",
    "Example 1:<br>\n",
    "\n",
    "Input: nums = [2,7,11,15], target = 9<br>\n",
    "Output: [0,1]"
   ]
  },
  {
   "cell_type": "code",
   "execution_count": 31,
   "id": "ff1e5aa2",
   "metadata": {},
   "outputs": [
    {
     "name": "stdout",
     "output_type": "stream",
     "text": [
      "[7, 2]\n"
     ]
    }
   ],
   "source": [
    "def find_two_elements(nums, target):\n",
    "    num_dict = {}\n",
    "    for num in nums:\n",
    "        complement = target - num\n",
    "        if complement in num_dict:\n",
    "            return [num, complement]\n",
    "        num_dict[num] = True\n",
    "\n",
    "nums = [2,7,11,15]\n",
    "target = 9\n",
    "result = find_two_elements(nums, target)\n",
    "print(result)"
   ]
  },
  {
   "cell_type": "markdown",
   "id": "e473f396",
   "metadata": {},
   "source": [
    "### Question 2\n",
    "Given an integer x,<i> return true if x is a <br>\n",
    "palindrome</i><br>\n",
    ", and false otherwise. <br>\n",
    "Example 1:<br>\n",
    "\n",
    "Input: x = 121<br>\n",
    "Output: true<br>\n"
   ]
  },
  {
   "cell_type": "code",
   "execution_count": 4,
   "id": "83e210c0",
   "metadata": {},
   "outputs": [
    {
     "name": "stdout",
     "output_type": "stream",
     "text": [
      "Enter Integer: 222\n",
      "Integer is Palindrom\n"
     ]
    }
   ],
   "source": [
    "inputs = input(\"Enter Integer: \")\n",
    "if inputs == inputs[::-1]:\n",
    "    print(\"Integer is Palindrom\")\n",
    "else:\n",
    "    print(\"Integer is not Palindrom\")"
   ]
  },
  {
   "cell_type": "markdown",
   "id": "a2f1a21b",
   "metadata": {},
   "source": [
    "### Question 3\n",
    "Given two strings needle and haystack, return the index of the first occurrence of needle in haystack, or -1 if needle is not part of haystack.<br>\n",
    "\n",
    "Example 1:<br>\n",
    "Input: haystack = \"sadbutsad\", needle = \"sad\" <br>\n",
    "Output: 0<br>\n",
    "Explanation: \"sad\" occurs at index 0 and 6.<br>\n",
    "The first occurrence is at index 0, so we return 0.<br>\n",
    "\n",
    "Example 2:<br>\n",
    "Input: haystack = \"apple\", needle = \"appo\"<br>\n",
    "Output: -1<br>\n",
    "Explanation: \"leeto\" did not occur in \"leetcode\", so we return -1.<br>"
   ]
  },
  {
   "cell_type": "code",
   "execution_count": 8,
   "id": "d4aeb342",
   "metadata": {},
   "outputs": [
    {
     "name": "stdout",
     "output_type": "stream",
     "text": [
      "0\n"
     ]
    }
   ],
   "source": [
    "haystack = \"sadbutsad\"\n",
    "needle = \"sad\"\n",
    "# haystack = \"apple\"\n",
    "# needle = \"appo\"\n",
    "if needle in haystack:\n",
    "    print(0)\n",
    "else:\n",
    "    print(-1)"
   ]
  },
  {
   "cell_type": "markdown",
   "id": "916e39e1",
   "metadata": {},
   "source": [
    "### Question 4\n",
    "\n",
    "Enter a number and have the program generate the Fibonacci sequence to that number or to the Nth number."
   ]
  },
  {
   "cell_type": "code",
   "execution_count": 38,
   "id": "2bc0707f",
   "metadata": {},
   "outputs": [
    {
     "name": "stdout",
     "output_type": "stream",
     "text": [
      "Enter number: 13\n",
      "Fibonacci Sequence of given number:  [0, 1, 1, 2, 3, 5, 8, 13]\n"
     ]
    }
   ],
   "source": [
    "def fibonaccii(num):\n",
    "    f_sequence = [0,1]\n",
    "    while f_sequence[-1] + f_sequence[-2] <= num:\n",
    "        item = f_sequence[-1] + f_sequence[-2]\n",
    "        f_sequence.append(item)\n",
    "    return f_sequence\n",
    "\n",
    "input_num = int(input(\"Enter number: \"))\n",
    "print(\"Fibonacci Sequence of given number: \",fibonaccii(input_num))"
   ]
  },
  {
   "cell_type": "markdown",
   "id": "1f0c9bfa",
   "metadata": {},
   "source": [
    "### Question 5\n",
    "Given two integers, return True if the sum of the integers is 20 or if one of the integers is 20. If not, return False"
   ]
  },
  {
   "cell_type": "code",
   "execution_count": 9,
   "id": "4030ce7f",
   "metadata": {},
   "outputs": [
    {
     "name": "stdout",
     "output_type": "stream",
     "text": [
      "Enter first integer: 10\n",
      "Enter second integer: 5\n",
      "False\n"
     ]
    }
   ],
   "source": [
    "input1 = int(input(\"Enter first integer: \"))\n",
    "input2 = int(input(\"Enter second integer: \"))\n",
    "if input1 + input2 == 20 or input1 == 20 or input2 == 20:\n",
    "    print(\"True\")\n",
    "else:\n",
    "    print(\"False\")"
   ]
  },
  {
   "cell_type": "markdown",
   "id": "947855f9",
   "metadata": {},
   "source": [
    "### Question 6\n",
    "\n",
    "Convert Celsius to Fahrenheit (Use list comprehension)<br>\n",
    "celsius = [0,10,20.1,34.5]"
   ]
  },
  {
   "cell_type": "code",
   "execution_count": 50,
   "id": "ee590475",
   "metadata": {},
   "outputs": [
    {
     "name": "stdout",
     "output_type": "stream",
     "text": [
      "[32.0, 50.0, 68.18, 94.1]\n"
     ]
    }
   ],
   "source": [
    "celsius = [0,10,20.1,34.5]\n",
    "\n",
    "Fahrenheit_temperature = [(C * 9/5)+32 for C in celsius]\n",
    "print(Fahrenheit_temperature)"
   ]
  },
  {
   "cell_type": "markdown",
   "id": "26d6af81",
   "metadata": {},
   "source": [
    "### Question 7\n",
    "\n",
    "Create a simple program to manage a stack? The stack should have a maximum limit of 10 elements. Include two functions: one for adding (pushing) an element to the stack and another for removing (popping) an element from the stack. If the stack is full and someone tries to add an element, return a message saying the stack is full. If the stack is empty and someone tries to remove an element, return a message saying the stack is empty and no element can be removed.<br>\n",
    "\n",
    "<b>Note:</b> Stack follows FIFO (first in first out) rule"
   ]
  },
  {
   "cell_type": "code",
   "execution_count": 27,
   "id": "da16794b",
   "metadata": {},
   "outputs": [
    {
     "name": "stdout",
     "output_type": "stream",
     "text": [
      "Stack is full\n",
      "Stack after removing:  [1, 2, 3, 4, 5, 6, 7, 8, 9]\n"
     ]
    }
   ],
   "source": [
    "List = [1,2,3,4,5,6,7,8,9,10]\n",
    "def pushing(num):\n",
    "    if len(List) == 10:\n",
    "        print(\"Stack is full\")\n",
    "    else:\n",
    "        List.append(num)\n",
    "        \n",
    "        \n",
    "def popping(num):\n",
    "    if len(List) == 0:\n",
    "        print(\"Stack is empty\")\n",
    "\n",
    "    else:\n",
    "        List.remove(num)\n",
    "        print(\"Stack after removing: \",List)\n",
    "pushing(11)\n",
    "popping(10)"
   ]
  },
  {
   "cell_type": "markdown",
   "id": "c34f3ddd",
   "metadata": {},
   "source": [
    "### Question 8\n",
    "\n",
    "Create a function which will take list as an input argument! If a number can be divided evenly by 3, print \"fizz.\" If it can be divided evenly by 5, print \"buzz.\" And if it can be divided evenly by both 3 and 5, print \"fizzbuzz.\"<br>\n",
    "<b>Note:</b>Use max two conditional statements."
   ]
  },
  {
   "cell_type": "code",
   "execution_count": 15,
   "id": "483439fb",
   "metadata": {},
   "outputs": [
    {
     "name": "stdout",
     "output_type": "stream",
     "text": [
      "fizzbuzz\n"
     ]
    }
   ],
   "source": [
    "def fizzbuzz(num):\n",
    "    if num % 3 == 0 and num % 5 == 0:\n",
    "        print(\"fizzbuzz\")\n",
    "    elif num % 3 == 0:\n",
    "        print(\"fizz\")\n",
    "    elif num % 5 == 0:\n",
    "        print(\"buzz\")\n",
    "    else:\n",
    "        print(\"no\")\n",
    "fizzbuzz(15)"
   ]
  }
 ],
 "metadata": {
  "kernelspec": {
   "display_name": "Python 3 (ipykernel)",
   "language": "python",
   "name": "python3"
  },
  "language_info": {
   "codemirror_mode": {
    "name": "ipython",
    "version": 3
   },
   "file_extension": ".py",
   "mimetype": "text/x-python",
   "name": "python",
   "nbconvert_exporter": "python",
   "pygments_lexer": "ipython3",
   "version": "3.9.12"
  }
 },
 "nbformat": 4,
 "nbformat_minor": 5
}
