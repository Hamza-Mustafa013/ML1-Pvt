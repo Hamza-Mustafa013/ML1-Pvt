{
 "cells": [
  {
   "cell_type": "code",
   "execution_count": 14,
   "id": "34dd0cc0",
   "metadata": {},
   "outputs": [],
   "source": [
    "import cv2\n",
    "import numpy as np\n",
    "import os"
   ]
  },
  {
   "cell_type": "code",
   "execution_count": 17,
   "id": "2c42033f",
   "metadata": {},
   "outputs": [],
   "source": [
    "def process_image(image1_path, image2_path):\n",
    "    # Load the first image\n",
    "    image = cv2.imread(image1_path)\n",
    "    \n",
    "    # Resize the image to 113x43\n",
    "    image = cv2.resize(image, (140, 55),interpolation=cv2.INTER_AREA)\n",
    "    \n",
    "    #  Convert image into BGR to HSV   \n",
    "    hsv = cv2.cvtColor(image, cv2.COLOR_BGR2HSV)\n",
    "    \n",
    "    lower_black_gray = np.array([0, 0, 0])\n",
    "    upper_black_gray = np.array([100, 0, 200])\n",
    "    black_gray_mask = cv2.inRange(hsv, lower_black_gray, upper_black_gray)\n",
    "    \n",
    "    # Load the second image\n",
    "    image_2 = cv2.imread(image2_path)\n",
    "    \n",
    "    # Extract the roi from second image\n",
    "    roi = image_2[235:290, 360:500]\n",
    "    roi[black_gray_mask != 0] = [0, 0, 0]\n",
    "    \n",
    "    return image_2"
   ]
  },
  {
   "cell_type": "code",
   "execution_count": 18,
   "id": "c93b2ebc",
   "metadata": {},
   "outputs": [],
   "source": [
    "for filename in os.listdir(\"genuine\"):\n",
    "    if filename.endswith(('.jpg', '.jpeg', '.png', '.bmp')):\n",
    "        # Read the image\n",
    "        image1_path = os.path.join(\"genuine\", filename)\n",
    "        image2_path = \"idcard.jpg\"\n",
    "        image  = process_image(image1_path,image2_path)\n",
    "        output_path = os.path.join(\"Processed_ID_Cards\", f\"ID_Card_{filename}\")\n",
    "        cv2.imwrite(output_path, image)"
   ]
  }
 ],
 "metadata": {
  "kernelspec": {
   "display_name": "Python 3 (ipykernel)",
   "language": "python",
   "name": "python3"
  },
  "language_info": {
   "codemirror_mode": {
    "name": "ipython",
    "version": 3
   },
   "file_extension": ".py",
   "mimetype": "text/x-python",
   "name": "python",
   "nbconvert_exporter": "python",
   "pygments_lexer": "ipython3",
   "version": "3.9.12"
  }
 },
 "nbformat": 4,
 "nbformat_minor": 5
}
