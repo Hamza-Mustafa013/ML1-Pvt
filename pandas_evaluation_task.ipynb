{
 "cells": [
  {
   "cell_type": "markdown",
   "metadata": {},
   "source": [
    "# Perform the following analysis on the provided file \"demo.csv\".\n",
    "\n",
    "\n",
    "## 1. Which month saw the highest joining of the employees\n",
    "\n",
    "   function name: max_joinings_month()\n",
    "   \n",
    "   inputs: DataFrame\n",
    "   \n",
    "   outputs: str\n",
    "   \n",
    "   \n",
    "## 2. What is the mean salary is the state KS\n",
    "   \n",
    "   function name: mean_ks_salary()\n",
    "   \n",
    "   inputs: DataFrame\n",
    "   \n",
    "   outputs: float\n",
    "   \n",
    "   \n",
    "## 3. Which Region has highest mean salary\n",
    "   \n",
    "   function name: max_mean_salary_region()\n",
    "   \n",
    "   inputs: DataFrame\n",
    "   \n",
    "   outputs: str\n",
    "   \n",
    "   \n",
    "## 4. Which region has lowest mean salary\n",
    "   \n",
    "   function name: min_mean_salary_region()\n",
    "   \n",
    "   inputs: DataFrame\n",
    "   \n",
    "   outputs: str\n",
    "   \n",
    "   \n",
    "## 5. Which City has highest mean weight\n",
    "   \n",
    "   function name: max_mean_weight_city()\n",
    "   \n",
    "   inputs: DataFrame\n",
    "   \n",
    "   outputs: str\n",
    "   \n",
    "   \n",
    "## 6. What is the difference between mean salary of Doctors and Professors\n",
    "   \n",
    "   function name: dr_prof_mean_salary_diff()\n",
    "   \n",
    "   inputs: DataFrame\n",
    "   \n",
    "   outputs: float\n",
    "   \n",
    "   \n",
    "## 7. How many female use yahoo\n",
    "   \n",
    "   function name: females_with_yahoo()\n",
    "   \n",
    "   inputs: DataFrame\n",
    "   \n",
    "   outputs: int\n",
    "   \n",
    "   \n",
    "## 8. How many Doctors use gmail\n",
    "   \n",
    "   function name: doctors_with_gmail()\n",
    "   \n",
    "   inputs: DataFrame\n",
    "   \n",
    "   outputs: int\n",
    "   \n",
    "   \n",
    "## 9. What is the password of the youngest male\n",
    "   \n",
    "   function name: youngest_male_password()\n",
    "   \n",
    "   inputs: DataFrame\n",
    "   \n",
    "   outputs: str\n"
   ]
  },
  {
   "cell_type": "code",
   "execution_count": 10,
   "metadata": {},
   "outputs": [],
   "source": [
    "import pandas as pd\n",
    "\n",
    "# demo.csv\n",
    "# file_path = \"demo.csv\"\n",
    "# df = pd.read_csv(file_path)\n",
    "# display(df)\n",
    "\n",
    "# test.csv\n",
    "file_path = \"test1.csv\"\n",
    "test_df = pd.read_csv(file_path)\n",
    "# display(test_df)\n"
   ]
  },
  {
   "cell_type": "markdown",
   "metadata": {},
   "source": [
    "## 1. Which month saw the highest joining of the employees\n",
    "\n",
    "   function name: max_joinings_month()\n",
    "   \n",
    "   inputs: DataFrame\n",
    "   \n",
    "   outputs: str"
   ]
  },
  {
   "cell_type": "code",
   "execution_count": 11,
   "metadata": {},
   "outputs": [
    {
     "name": "stdout",
     "output_type": "stream",
     "text": [
      "on demo.csv April\n",
      "on test.csv December\n"
     ]
    }
   ],
   "source": [
    "def max_joinings_month(df):\n",
    "    max_joinings = df.groupby(['Month Name of Joining']).size().idxmax()\n",
    "    return max_joinings\n",
    "    \n",
    "print(\"on demo.csv\",max_joinings_month(df))\n",
    "print(\"on test.csv\",max_joinings_month(test_df))\n"
   ]
  },
  {
   "cell_type": "markdown",
   "metadata": {},
   "source": [
    "## 2. What is the mean salary is the state KS\n",
    "   \n",
    "   function name: mean_ks_salary()\n",
    "   \n",
    "   inputs: DataFrame\n",
    "   \n",
    "   outputs: float"
   ]
  },
  {
   "cell_type": "code",
   "execution_count": 12,
   "metadata": {},
   "outputs": [
    {
     "name": "stdout",
     "output_type": "stream",
     "text": [
      "on demo.csv 104225.45454545454\n",
      "on test.csv 121682.33333333333\n"
     ]
    }
   ],
   "source": [
    "def mean_ks_salary(df):\n",
    "    state_df = df[df['State'] == 'KS']\n",
    "    mean_salary = state_df['Salary'].mean()\n",
    "    return mean_salary\n",
    "\n",
    "print(\"on demo.csv\",mean_ks_salary(df))\n",
    "print(\"on test.csv\",mean_ks_salary(test_df))\n"
   ]
  },
  {
   "cell_type": "markdown",
   "metadata": {},
   "source": [
    "## 3. Which Region has highest mean salary\n",
    "   \n",
    "   function name: max_mean_salary_region()\n",
    "   \n",
    "   inputs: DataFrame\n",
    "   \n",
    "   outputs: str"
   ]
  },
  {
   "cell_type": "code",
   "execution_count": 13,
   "metadata": {},
   "outputs": [
    {
     "name": "stdout",
     "output_type": "stream",
     "text": [
      "on demo.csv Midwest\n",
      "on test.csv West\n"
     ]
    }
   ],
   "source": [
    "def max_mean_salary_region(df):\n",
    "    region_mean_S = df.groupby('Region')['Salary'].mean()\n",
    "    max_mean_region_S = region_mean_S.idxmax()\n",
    "    return max_mean_region_S\n",
    "\n",
    "print(\"on demo.csv\",max_mean_salary_region(df))\n",
    "print(\"on test.csv\",max_mean_salary_region(test_df))\n"
   ]
  },
  {
   "cell_type": "markdown",
   "metadata": {},
   "source": [
    "## 4. Which region has lowest mean salary\n",
    "   \n",
    "   function name: min_mean_salary_region()\n",
    "   \n",
    "   inputs: DataFrame\n",
    "   \n",
    "   outputs: str"
   ]
  },
  {
   "cell_type": "code",
   "execution_count": 14,
   "metadata": {},
   "outputs": [
    {
     "name": "stdout",
     "output_type": "stream",
     "text": [
      "on demo.csv West\n",
      "on test.csv Midwest\n"
     ]
    }
   ],
   "source": [
    "def min_mean_salary_region(df):\n",
    "    region_mean_S = df.groupby('Region')['Salary'].mean()\n",
    "    max_mean_region_S = region_mean_S.idxmin()\n",
    "    return max_mean_region_S\n",
    "\n",
    "print(\"on demo.csv\",min_mean_salary_region(df))\n",
    "print(\"on test.csv\",min_mean_salary_region(test_df))\n"
   ]
  },
  {
   "cell_type": "markdown",
   "metadata": {},
   "source": [
    "## 5. Which City has highest mean weight\n",
    "   \n",
    "   function name: max_mean_weight_city()\n",
    "   \n",
    "   inputs: DataFrame\n",
    "   \n",
    "   outputs: str"
   ]
  },
  {
   "cell_type": "code",
   "execution_count": 15,
   "metadata": {},
   "outputs": [
    {
     "name": "stdout",
     "output_type": "stream",
     "text": [
      "on demo.csv Conroe\n",
      "on test.csv Conroe\n"
     ]
    }
   ],
   "source": [
    "def max_mean_weight_city(df):\n",
    "    city_mean_weight = df.groupby('City')['Weight in Kgs.'].mean()\n",
    "    max_city_mean_weight = city_mean_weight.idxmax()\n",
    "    return max_city_mean_weight\n",
    "\n",
    "print(\"on demo.csv\",max_mean_weight_city(df))\n",
    "print(\"on test.csv\",max_mean_weight_city(test_df))\n"
   ]
  },
  {
   "cell_type": "markdown",
   "metadata": {},
   "source": [
    "## 6. What is the difference between mean salary of Doctors and Professors\n",
    "   \n",
    "   function name: dr_prof_mean_salary_diff()\n",
    "   \n",
    "   inputs: DataFrame\n",
    "   \n",
    "   outputs: float"
   ]
  },
  {
   "cell_type": "code",
   "execution_count": 18,
   "metadata": {},
   "outputs": [
    {
     "name": "stdout",
     "output_type": "stream",
     "text": [
      "on demo.csv -2635.981785063763\n",
      "on test.csv 7343.649553571435\n"
     ]
    }
   ],
   "source": [
    "def dr_prof_mean_salary_diff(df):\n",
    "    doc_df = df[(df['Name Prefix'] == 'Drs.') | (df['Name Prefix'] == 'Dr.')]\n",
    "    prof_df = df[df['Name Prefix'] == 'Prof.']\n",
    "\n",
    "    mean_salary_doc = doc_df['Salary'].mean()\n",
    "    mean_salary_prof = prof_df['Salary'].mean()\n",
    "\n",
    "    salary_difference = mean_salary_doc - mean_salary_prof\n",
    "\n",
    "    return salary_difference\n",
    "\n",
    "print(\"on demo.csv\",dr_prof_mean_salary_diff(df))\n",
    "print(\"on test.csv\",dr_prof_mean_salary_diff(test_df))\n"
   ]
  },
  {
   "cell_type": "markdown",
   "metadata": {},
   "source": [
    "## 7. How many female use yahoo\n",
    "   \n",
    "   function name: females_with_yahoo()\n",
    "   \n",
    "   inputs: DataFrame\n",
    "   \n",
    "   outputs: int"
   ]
  },
  {
   "cell_type": "code",
   "execution_count": 17,
   "metadata": {},
   "outputs": [
    {
     "name": "stdout",
     "output_type": "stream",
     "text": [
      "on demo.csv 47\n",
      "on test.csv 161\n"
     ]
    }
   ],
   "source": [
    "def females_with_yahoo(df):\n",
    "    female_df = df[df['Gender'] == 'F']\n",
    "\n",
    "    yahoo_female_df = female_df[female_df['E Mail'].str.endswith('@yahoo.com')]\n",
    "\n",
    "    count_female_yahoo_users = len(yahoo_female_df)\n",
    "\n",
    "    return count_female_yahoo_users\n",
    "\n",
    "print(\"on demo.csv\",females_with_yahoo(df))\n",
    "print(\"on test.csv\",females_with_yahoo(test_df))\n"
   ]
  },
  {
   "cell_type": "markdown",
   "metadata": {},
   "source": [
    "## 8. How many Doctors use gmail\n",
    "   \n",
    "   function name: doctors_with_gmail()\n",
    "   \n",
    "   inputs: DataFrame\n",
    "   \n",
    "   outputs: int"
   ]
  },
  {
   "cell_type": "code",
   "execution_count": 9,
   "metadata": {},
   "outputs": [
    {
     "name": "stdout",
     "output_type": "stream",
     "text": [
      "on demo.csv 42\n",
      "on test.csv Output Hidden\n"
     ]
    }
   ],
   "source": [
    "def doctors_with_gmail(df):\n",
    "    # your code here\n",
    "\n",
    "print(\"on demo.csv\",doctors_with_gmail(df))\n",
    "# print(\"on test.csv\",doctors_with_gmail(test_df))\n"
   ]
  },
  {
   "cell_type": "markdown",
   "metadata": {},
   "source": [
    "## 9. What is the password of the youngest male\n",
    "   \n",
    "   function name: youngest_male_password()\n",
    "   \n",
    "   inputs: DataFrame\n",
    "   \n",
    "   outputs: str"
   ]
  },
  {
   "cell_type": "code",
   "execution_count": 10,
   "metadata": {},
   "outputs": [
    {
     "name": "stdout",
     "output_type": "stream",
     "text": [
      "on demo.csv xPr\\aGPTQ#v\n",
      "on test.csv Output Hidden\n"
     ]
    }
   ],
   "source": [
    "def youngest_male_password(df):\n",
    "    # your code here\n",
    "\n",
    "print(\"on demo.csv\",youngest_male_password(df))\n",
    "# print(\"on test.csv\",youngest_male_password(test_df))\n"
   ]
  }
 ],
 "metadata": {
  "kernelspec": {
   "display_name": "Python 3 (ipykernel)",
   "language": "python",
   "name": "python3"
  },
  "language_info": {
   "codemirror_mode": {
    "name": "ipython",
    "version": 3
   },
   "file_extension": ".py",
   "mimetype": "text/x-python",
   "name": "python",
   "nbconvert_exporter": "python",
   "pygments_lexer": "ipython3",
   "version": "3.9.12"
  }
 },
 "nbformat": 4,
 "nbformat_minor": 2
}
