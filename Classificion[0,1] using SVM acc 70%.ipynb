{
 "cells": [
  {
   "cell_type": "code",
   "execution_count": 1,
   "id": "ce8c3004",
   "metadata": {},
   "outputs": [],
   "source": [
    "import numpy as np\n",
    "import pandas as pd\n",
    "import matplotlib.pyplot as plt\n",
    "import seaborn as sns"
   ]
  },
  {
   "cell_type": "code",
   "execution_count": 2,
   "id": "b1842f43",
   "metadata": {},
   "outputs": [],
   "source": [
    "df = pd.read_csv(\"Trading-features.csv\")"
   ]
  },
  {
   "cell_type": "code",
   "execution_count": 3,
   "id": "78fb1a60",
   "metadata": {},
   "outputs": [
    {
     "data": {
      "text/html": [
       "<div>\n",
       "<style scoped>\n",
       "    .dataframe tbody tr th:only-of-type {\n",
       "        vertical-align: middle;\n",
       "    }\n",
       "\n",
       "    .dataframe tbody tr th {\n",
       "        vertical-align: top;\n",
       "    }\n",
       "\n",
       "    .dataframe thead th {\n",
       "        text-align: right;\n",
       "    }\n",
       "</style>\n",
       "<table border=\"1\" class=\"dataframe\">\n",
       "  <thead>\n",
       "    <tr style=\"text-align: right;\">\n",
       "      <th></th>\n",
       "      <th>id</th>\n",
       "      <th>last_price</th>\n",
       "      <th>created_at</th>\n",
       "      <th>f1</th>\n",
       "      <th>f2</th>\n",
       "      <th>f3</th>\n",
       "      <th>f4</th>\n",
       "      <th>f5</th>\n",
       "      <th>f6</th>\n",
       "      <th>f7</th>\n",
       "      <th>...</th>\n",
       "      <th>f152</th>\n",
       "      <th>f153</th>\n",
       "      <th>f154</th>\n",
       "      <th>f155</th>\n",
       "      <th>f156</th>\n",
       "      <th>f157</th>\n",
       "      <th>f158</th>\n",
       "      <th>f159</th>\n",
       "      <th>f160</th>\n",
       "      <th>f161</th>\n",
       "    </tr>\n",
       "  </thead>\n",
       "  <tbody>\n",
       "    <tr>\n",
       "      <th>0</th>\n",
       "      <td>55466910</td>\n",
       "      <td>43138.2</td>\n",
       "      <td>2023-12-27 12:47:41.916971</td>\n",
       "      <td>0.000463</td>\n",
       "      <td>15139</td>\n",
       "      <td>-43.1</td>\n",
       "      <td>43.0</td>\n",
       "      <td>-0.1</td>\n",
       "      <td>-4.8</td>\n",
       "      <td>-5.1</td>\n",
       "      <td>...</td>\n",
       "      <td>695.2</td>\n",
       "      <td>-123.8</td>\n",
       "      <td>695.2</td>\n",
       "      <td>-123.8</td>\n",
       "      <td>-123.8</td>\n",
       "      <td>695.2</td>\n",
       "      <td>695.2</td>\n",
       "      <td>-123.8</td>\n",
       "      <td>-123.8</td>\n",
       "      <td>695.2</td>\n",
       "    </tr>\n",
       "    <tr>\n",
       "      <th>1</th>\n",
       "      <td>55466909</td>\n",
       "      <td>43138.2</td>\n",
       "      <td>2023-12-27 12:47:40.693372</td>\n",
       "      <td>0.000463</td>\n",
       "      <td>15140</td>\n",
       "      <td>-43.1</td>\n",
       "      <td>43.0</td>\n",
       "      <td>-0.1</td>\n",
       "      <td>-4.7</td>\n",
       "      <td>-5.1</td>\n",
       "      <td>...</td>\n",
       "      <td>695.2</td>\n",
       "      <td>-123.8</td>\n",
       "      <td>695.2</td>\n",
       "      <td>-123.8</td>\n",
       "      <td>-123.8</td>\n",
       "      <td>695.2</td>\n",
       "      <td>695.2</td>\n",
       "      <td>-123.8</td>\n",
       "      <td>-123.8</td>\n",
       "      <td>695.2</td>\n",
       "    </tr>\n",
       "    <tr>\n",
       "      <th>2</th>\n",
       "      <td>55466908</td>\n",
       "      <td>43138.2</td>\n",
       "      <td>2023-12-27 12:47:39.968797</td>\n",
       "      <td>0.000463</td>\n",
       "      <td>15141</td>\n",
       "      <td>-37.4</td>\n",
       "      <td>43.0</td>\n",
       "      <td>5.6</td>\n",
       "      <td>-1.9</td>\n",
       "      <td>-0.6</td>\n",
       "      <td>...</td>\n",
       "      <td>695.2</td>\n",
       "      <td>-123.8</td>\n",
       "      <td>695.2</td>\n",
       "      <td>-123.8</td>\n",
       "      <td>-123.8</td>\n",
       "      <td>695.2</td>\n",
       "      <td>695.2</td>\n",
       "      <td>-123.8</td>\n",
       "      <td>-123.8</td>\n",
       "      <td>695.2</td>\n",
       "    </tr>\n",
       "    <tr>\n",
       "      <th>3</th>\n",
       "      <td>55466907</td>\n",
       "      <td>43138.2</td>\n",
       "      <td>2023-12-27 12:47:38.919784</td>\n",
       "      <td>0.000463</td>\n",
       "      <td>15142</td>\n",
       "      <td>-37.4</td>\n",
       "      <td>37.4</td>\n",
       "      <td>0.0</td>\n",
       "      <td>-3.7</td>\n",
       "      <td>-6.2</td>\n",
       "      <td>...</td>\n",
       "      <td>695.2</td>\n",
       "      <td>-123.8</td>\n",
       "      <td>695.2</td>\n",
       "      <td>-123.8</td>\n",
       "      <td>-123.8</td>\n",
       "      <td>695.2</td>\n",
       "      <td>695.2</td>\n",
       "      <td>-123.8</td>\n",
       "      <td>-123.8</td>\n",
       "      <td>695.2</td>\n",
       "    </tr>\n",
       "    <tr>\n",
       "      <th>4</th>\n",
       "      <td>55466906</td>\n",
       "      <td>43132.6</td>\n",
       "      <td>2023-12-27 12:47:37.881533</td>\n",
       "      <td>0.000463</td>\n",
       "      <td>15143</td>\n",
       "      <td>-39.6</td>\n",
       "      <td>36.5</td>\n",
       "      <td>-3.1</td>\n",
       "      <td>-3.7</td>\n",
       "      <td>-9.4</td>\n",
       "      <td>...</td>\n",
       "      <td>689.6</td>\n",
       "      <td>-129.4</td>\n",
       "      <td>689.6</td>\n",
       "      <td>-129.4</td>\n",
       "      <td>-129.4</td>\n",
       "      <td>689.6</td>\n",
       "      <td>689.6</td>\n",
       "      <td>-129.4</td>\n",
       "      <td>-129.4</td>\n",
       "      <td>689.6</td>\n",
       "    </tr>\n",
       "  </tbody>\n",
       "</table>\n",
       "<p>5 rows × 164 columns</p>\n",
       "</div>"
      ],
      "text/plain": [
       "         id  last_price                  created_at        f1     f2    f3  \\\n",
       "0  55466910     43138.2  2023-12-27 12:47:41.916971  0.000463  15139 -43.1   \n",
       "1  55466909     43138.2  2023-12-27 12:47:40.693372  0.000463  15140 -43.1   \n",
       "2  55466908     43138.2  2023-12-27 12:47:39.968797  0.000463  15141 -37.4   \n",
       "3  55466907     43138.2  2023-12-27 12:47:38.919784  0.000463  15142 -37.4   \n",
       "4  55466906     43132.6  2023-12-27 12:47:37.881533  0.000463  15143 -39.6   \n",
       "\n",
       "     f4   f5   f6   f7  ...   f152   f153   f154   f155   f156   f157   f158  \\\n",
       "0  43.0 -0.1 -4.8 -5.1  ...  695.2 -123.8  695.2 -123.8 -123.8  695.2  695.2   \n",
       "1  43.0 -0.1 -4.7 -5.1  ...  695.2 -123.8  695.2 -123.8 -123.8  695.2  695.2   \n",
       "2  43.0  5.6 -1.9 -0.6  ...  695.2 -123.8  695.2 -123.8 -123.8  695.2  695.2   \n",
       "3  37.4  0.0 -3.7 -6.2  ...  695.2 -123.8  695.2 -123.8 -123.8  695.2  695.2   \n",
       "4  36.5 -3.1 -3.7 -9.4  ...  689.6 -129.4  689.6 -129.4 -129.4  689.6  689.6   \n",
       "\n",
       "    f159   f160   f161  \n",
       "0 -123.8 -123.8  695.2  \n",
       "1 -123.8 -123.8  695.2  \n",
       "2 -123.8 -123.8  695.2  \n",
       "3 -123.8 -123.8  695.2  \n",
       "4 -129.4 -129.4  689.6  \n",
       "\n",
       "[5 rows x 164 columns]"
      ]
     },
     "execution_count": 3,
     "metadata": {},
     "output_type": "execute_result"
    }
   ],
   "source": [
    "df.head()"
   ]
  },
  {
   "cell_type": "code",
   "execution_count": 4,
   "id": "c77592d9",
   "metadata": {},
   "outputs": [],
   "source": [
    "df['created_at']=pd.to_datetime(df['created_at'])\n",
    "df['date']=df['created_at'].dt.strftime('%Y-%m-%d')\n",
    "df['created_at']=df['created_at'].dt.strftime('%H:%M:%S')"
   ]
  },
  {
   "cell_type": "code",
   "execution_count": 5,
   "id": "15431c7f",
   "metadata": {},
   "outputs": [
    {
     "name": "stdout",
     "output_type": "stream",
     "text": [
      "<class 'pandas.core.frame.DataFrame'>\n",
      "RangeIndex: 10000 entries, 0 to 9999\n",
      "Columns: 165 entries, id to date\n",
      "dtypes: float64(136), int64(27), object(2)\n",
      "memory usage: 12.6+ MB\n"
     ]
    }
   ],
   "source": [
    "df.info()"
   ]
  },
  {
   "cell_type": "code",
   "execution_count": 6,
   "id": "051b8d03",
   "metadata": {},
   "outputs": [],
   "source": [
    "# Get the column indices for columns f11 to f161\n",
    "start_index = df.columns.get_loc('f1')\n",
    "end_index = df.columns.get_loc('f161') + 1  # Adding 1 to include the 'f161' column\n",
    "\n",
    "# Drop the columns in the specified range\n",
    "df = df.drop(df.columns[start_index:end_index], axis=1)"
   ]
  },
  {
   "cell_type": "code",
   "execution_count": 7,
   "id": "0d8ef0da",
   "metadata": {},
   "outputs": [
    {
     "data": {
      "text/html": [
       "<div>\n",
       "<style scoped>\n",
       "    .dataframe tbody tr th:only-of-type {\n",
       "        vertical-align: middle;\n",
       "    }\n",
       "\n",
       "    .dataframe tbody tr th {\n",
       "        vertical-align: top;\n",
       "    }\n",
       "\n",
       "    .dataframe thead th {\n",
       "        text-align: right;\n",
       "    }\n",
       "</style>\n",
       "<table border=\"1\" class=\"dataframe\">\n",
       "  <thead>\n",
       "    <tr style=\"text-align: right;\">\n",
       "      <th></th>\n",
       "      <th>id</th>\n",
       "      <th>last_price</th>\n",
       "      <th>created_at</th>\n",
       "      <th>date</th>\n",
       "    </tr>\n",
       "  </thead>\n",
       "  <tbody>\n",
       "    <tr>\n",
       "      <th>0</th>\n",
       "      <td>55466910</td>\n",
       "      <td>43138.2</td>\n",
       "      <td>12:47:41</td>\n",
       "      <td>2023-12-27</td>\n",
       "    </tr>\n",
       "    <tr>\n",
       "      <th>1</th>\n",
       "      <td>55466909</td>\n",
       "      <td>43138.2</td>\n",
       "      <td>12:47:40</td>\n",
       "      <td>2023-12-27</td>\n",
       "    </tr>\n",
       "    <tr>\n",
       "      <th>2</th>\n",
       "      <td>55466908</td>\n",
       "      <td>43138.2</td>\n",
       "      <td>12:47:39</td>\n",
       "      <td>2023-12-27</td>\n",
       "    </tr>\n",
       "    <tr>\n",
       "      <th>3</th>\n",
       "      <td>55466907</td>\n",
       "      <td>43138.2</td>\n",
       "      <td>12:47:38</td>\n",
       "      <td>2023-12-27</td>\n",
       "    </tr>\n",
       "    <tr>\n",
       "      <th>4</th>\n",
       "      <td>55466906</td>\n",
       "      <td>43132.6</td>\n",
       "      <td>12:47:37</td>\n",
       "      <td>2023-12-27</td>\n",
       "    </tr>\n",
       "  </tbody>\n",
       "</table>\n",
       "</div>"
      ],
      "text/plain": [
       "         id  last_price created_at        date\n",
       "0  55466910     43138.2   12:47:41  2023-12-27\n",
       "1  55466909     43138.2   12:47:40  2023-12-27\n",
       "2  55466908     43138.2   12:47:39  2023-12-27\n",
       "3  55466907     43138.2   12:47:38  2023-12-27\n",
       "4  55466906     43132.6   12:47:37  2023-12-27"
      ]
     },
     "execution_count": 7,
     "metadata": {},
     "output_type": "execute_result"
    }
   ],
   "source": [
    "df.head()"
   ]
  },
  {
   "cell_type": "code",
   "execution_count": 8,
   "id": "cb56a41a",
   "metadata": {},
   "outputs": [],
   "source": [
    "# Create a new column 'Price_Status' and initialize with 0\n",
    "# df['Price_Status'] = nan\n",
    "# # Condition for price decrease\n",
    "# decrease_condition = df['last_price'] < df['last_price'].shift(1)\n",
    "# df.loc[decrease_condition, 'Price_Status'] = 0\n",
    "# # Condition for price increase\n",
    "# increase_condition = df['last_price'] > df['last_price'].shift(1)\n",
    "# df.loc[increase_condition, 'Price_Status'] = 1\n",
    "\n",
    "df['Price_Status'] = df['last_price'].diff().gt(0).astype(int).fillna(0)"
   ]
  },
  {
   "cell_type": "code",
   "execution_count": 9,
   "id": "25e83c5b",
   "metadata": {},
   "outputs": [
    {
     "data": {
      "text/html": [
       "<div>\n",
       "<style scoped>\n",
       "    .dataframe tbody tr th:only-of-type {\n",
       "        vertical-align: middle;\n",
       "    }\n",
       "\n",
       "    .dataframe tbody tr th {\n",
       "        vertical-align: top;\n",
       "    }\n",
       "\n",
       "    .dataframe thead th {\n",
       "        text-align: right;\n",
       "    }\n",
       "</style>\n",
       "<table border=\"1\" class=\"dataframe\">\n",
       "  <thead>\n",
       "    <tr style=\"text-align: right;\">\n",
       "      <th></th>\n",
       "      <th>id</th>\n",
       "      <th>last_price</th>\n",
       "      <th>created_at</th>\n",
       "      <th>date</th>\n",
       "      <th>Price_Status</th>\n",
       "    </tr>\n",
       "  </thead>\n",
       "  <tbody>\n",
       "    <tr>\n",
       "      <th>0</th>\n",
       "      <td>55466910</td>\n",
       "      <td>43138.2</td>\n",
       "      <td>12:47:41</td>\n",
       "      <td>2023-12-27</td>\n",
       "      <td>0</td>\n",
       "    </tr>\n",
       "    <tr>\n",
       "      <th>1</th>\n",
       "      <td>55466909</td>\n",
       "      <td>43138.2</td>\n",
       "      <td>12:47:40</td>\n",
       "      <td>2023-12-27</td>\n",
       "      <td>0</td>\n",
       "    </tr>\n",
       "    <tr>\n",
       "      <th>2</th>\n",
       "      <td>55466908</td>\n",
       "      <td>43138.2</td>\n",
       "      <td>12:47:39</td>\n",
       "      <td>2023-12-27</td>\n",
       "      <td>0</td>\n",
       "    </tr>\n",
       "    <tr>\n",
       "      <th>3</th>\n",
       "      <td>55466907</td>\n",
       "      <td>43138.2</td>\n",
       "      <td>12:47:38</td>\n",
       "      <td>2023-12-27</td>\n",
       "      <td>0</td>\n",
       "    </tr>\n",
       "    <tr>\n",
       "      <th>4</th>\n",
       "      <td>55466906</td>\n",
       "      <td>43132.6</td>\n",
       "      <td>12:47:37</td>\n",
       "      <td>2023-12-27</td>\n",
       "      <td>0</td>\n",
       "    </tr>\n",
       "    <tr>\n",
       "      <th>5</th>\n",
       "      <td>55466905</td>\n",
       "      <td>43132.6</td>\n",
       "      <td>12:47:36</td>\n",
       "      <td>2023-12-27</td>\n",
       "      <td>0</td>\n",
       "    </tr>\n",
       "    <tr>\n",
       "      <th>6</th>\n",
       "      <td>55466904</td>\n",
       "      <td>43132.5</td>\n",
       "      <td>12:47:35</td>\n",
       "      <td>2023-12-27</td>\n",
       "      <td>0</td>\n",
       "    </tr>\n",
       "    <tr>\n",
       "      <th>7</th>\n",
       "      <td>55466903</td>\n",
       "      <td>43135.7</td>\n",
       "      <td>12:47:34</td>\n",
       "      <td>2023-12-27</td>\n",
       "      <td>1</td>\n",
       "    </tr>\n",
       "    <tr>\n",
       "      <th>8</th>\n",
       "      <td>55466902</td>\n",
       "      <td>43135.7</td>\n",
       "      <td>12:47:33</td>\n",
       "      <td>2023-12-27</td>\n",
       "      <td>0</td>\n",
       "    </tr>\n",
       "    <tr>\n",
       "      <th>9</th>\n",
       "      <td>55466901</td>\n",
       "      <td>43135.7</td>\n",
       "      <td>12:47:32</td>\n",
       "      <td>2023-12-27</td>\n",
       "      <td>0</td>\n",
       "    </tr>\n",
       "  </tbody>\n",
       "</table>\n",
       "</div>"
      ],
      "text/plain": [
       "         id  last_price created_at        date  Price_Status\n",
       "0  55466910     43138.2   12:47:41  2023-12-27             0\n",
       "1  55466909     43138.2   12:47:40  2023-12-27             0\n",
       "2  55466908     43138.2   12:47:39  2023-12-27             0\n",
       "3  55466907     43138.2   12:47:38  2023-12-27             0\n",
       "4  55466906     43132.6   12:47:37  2023-12-27             0\n",
       "5  55466905     43132.6   12:47:36  2023-12-27             0\n",
       "6  55466904     43132.5   12:47:35  2023-12-27             0\n",
       "7  55466903     43135.7   12:47:34  2023-12-27             1\n",
       "8  55466902     43135.7   12:47:33  2023-12-27             0\n",
       "9  55466901     43135.7   12:47:32  2023-12-27             0"
      ]
     },
     "execution_count": 9,
     "metadata": {},
     "output_type": "execute_result"
    }
   ],
   "source": [
    "df.head(10)"
   ]
  },
  {
   "cell_type": "code",
   "execution_count": 10,
   "id": "98f8a3df",
   "metadata": {},
   "outputs": [
    {
     "data": {
      "text/html": [
       "<div>\n",
       "<style scoped>\n",
       "    .dataframe tbody tr th:only-of-type {\n",
       "        vertical-align: middle;\n",
       "    }\n",
       "\n",
       "    .dataframe tbody tr th {\n",
       "        vertical-align: top;\n",
       "    }\n",
       "\n",
       "    .dataframe thead th {\n",
       "        text-align: right;\n",
       "    }\n",
       "</style>\n",
       "<table border=\"1\" class=\"dataframe\">\n",
       "  <thead>\n",
       "    <tr style=\"text-align: right;\">\n",
       "      <th></th>\n",
       "      <th>id</th>\n",
       "      <th>last_price</th>\n",
       "      <th>created_at</th>\n",
       "      <th>date</th>\n",
       "      <th>Price_Status</th>\n",
       "    </tr>\n",
       "  </thead>\n",
       "  <tbody>\n",
       "    <tr>\n",
       "      <th>9990</th>\n",
       "      <td>55456908</td>\n",
       "      <td>42765.2</td>\n",
       "      <td>10:00:14</td>\n",
       "      <td>2023-12-27</td>\n",
       "      <td>1</td>\n",
       "    </tr>\n",
       "    <tr>\n",
       "      <th>9991</th>\n",
       "      <td>55456907</td>\n",
       "      <td>42763.5</td>\n",
       "      <td>10:00:13</td>\n",
       "      <td>2023-12-27</td>\n",
       "      <td>0</td>\n",
       "    </tr>\n",
       "    <tr>\n",
       "      <th>9992</th>\n",
       "      <td>55456906</td>\n",
       "      <td>42762.0</td>\n",
       "      <td>10:00:12</td>\n",
       "      <td>2023-12-27</td>\n",
       "      <td>0</td>\n",
       "    </tr>\n",
       "    <tr>\n",
       "      <th>9993</th>\n",
       "      <td>55456905</td>\n",
       "      <td>42759.6</td>\n",
       "      <td>10:00:11</td>\n",
       "      <td>2023-12-27</td>\n",
       "      <td>0</td>\n",
       "    </tr>\n",
       "    <tr>\n",
       "      <th>9994</th>\n",
       "      <td>55456904</td>\n",
       "      <td>42758.0</td>\n",
       "      <td>10:00:10</td>\n",
       "      <td>2023-12-27</td>\n",
       "      <td>0</td>\n",
       "    </tr>\n",
       "    <tr>\n",
       "      <th>9995</th>\n",
       "      <td>55456903</td>\n",
       "      <td>42753.6</td>\n",
       "      <td>10:00:09</td>\n",
       "      <td>2023-12-27</td>\n",
       "      <td>0</td>\n",
       "    </tr>\n",
       "    <tr>\n",
       "      <th>9996</th>\n",
       "      <td>55456902</td>\n",
       "      <td>42753.6</td>\n",
       "      <td>10:00:08</td>\n",
       "      <td>2023-12-27</td>\n",
       "      <td>0</td>\n",
       "    </tr>\n",
       "    <tr>\n",
       "      <th>9997</th>\n",
       "      <td>55456901</td>\n",
       "      <td>42753.6</td>\n",
       "      <td>10:00:07</td>\n",
       "      <td>2023-12-27</td>\n",
       "      <td>0</td>\n",
       "    </tr>\n",
       "    <tr>\n",
       "      <th>9998</th>\n",
       "      <td>55456900</td>\n",
       "      <td>42753.7</td>\n",
       "      <td>10:00:06</td>\n",
       "      <td>2023-12-27</td>\n",
       "      <td>1</td>\n",
       "    </tr>\n",
       "    <tr>\n",
       "      <th>9999</th>\n",
       "      <td>55456899</td>\n",
       "      <td>42765.6</td>\n",
       "      <td>10:00:05</td>\n",
       "      <td>2023-12-27</td>\n",
       "      <td>1</td>\n",
       "    </tr>\n",
       "  </tbody>\n",
       "</table>\n",
       "</div>"
      ],
      "text/plain": [
       "            id  last_price created_at        date  Price_Status\n",
       "9990  55456908     42765.2   10:00:14  2023-12-27             1\n",
       "9991  55456907     42763.5   10:00:13  2023-12-27             0\n",
       "9992  55456906     42762.0   10:00:12  2023-12-27             0\n",
       "9993  55456905     42759.6   10:00:11  2023-12-27             0\n",
       "9994  55456904     42758.0   10:00:10  2023-12-27             0\n",
       "9995  55456903     42753.6   10:00:09  2023-12-27             0\n",
       "9996  55456902     42753.6   10:00:08  2023-12-27             0\n",
       "9997  55456901     42753.6   10:00:07  2023-12-27             0\n",
       "9998  55456900     42753.7   10:00:06  2023-12-27             1\n",
       "9999  55456899     42765.6   10:00:05  2023-12-27             1"
      ]
     },
     "execution_count": 10,
     "metadata": {},
     "output_type": "execute_result"
    }
   ],
   "source": [
    "df.tail(10)"
   ]
  },
  {
   "cell_type": "code",
   "execution_count": 11,
   "id": "bf6a29ca",
   "metadata": {},
   "outputs": [
    {
     "name": "stdout",
     "output_type": "stream",
     "text": [
      "<class 'pandas.core.frame.DataFrame'>\n",
      "RangeIndex: 10000 entries, 0 to 9999\n",
      "Data columns (total 5 columns):\n",
      " #   Column        Non-Null Count  Dtype  \n",
      "---  ------        --------------  -----  \n",
      " 0   id            10000 non-null  int64  \n",
      " 1   last_price    10000 non-null  float64\n",
      " 2   created_at    10000 non-null  object \n",
      " 3   date          10000 non-null  object \n",
      " 4   Price_Status  10000 non-null  int32  \n",
      "dtypes: float64(1), int32(1), int64(1), object(2)\n",
      "memory usage: 351.7+ KB\n"
     ]
    }
   ],
   "source": [
    "df.info()"
   ]
  },
  {
   "cell_type": "code",
   "execution_count": 12,
   "id": "85762ce7",
   "metadata": {},
   "outputs": [],
   "source": [
    "df.drop('id',axis=1,inplace=True)"
   ]
  },
  {
   "cell_type": "code",
   "execution_count": 13,
   "id": "3106f8ab",
   "metadata": {},
   "outputs": [
    {
     "data": {
      "text/plain": [
       "(10000, 4)"
      ]
     },
     "execution_count": 13,
     "metadata": {},
     "output_type": "execute_result"
    }
   ],
   "source": [
    "df.shape"
   ]
  },
  {
   "cell_type": "code",
   "execution_count": 14,
   "id": "4a5a34c9",
   "metadata": {},
   "outputs": [],
   "source": [
    "df.dropna(inplace=True)"
   ]
  },
  {
   "cell_type": "code",
   "execution_count": 15,
   "id": "e317cb81",
   "metadata": {},
   "outputs": [
    {
     "data": {
      "text/plain": [
       "(10000, 4)"
      ]
     },
     "execution_count": 15,
     "metadata": {},
     "output_type": "execute_result"
    }
   ],
   "source": [
    "df.shape"
   ]
  },
  {
   "cell_type": "code",
   "execution_count": 16,
   "id": "814c0523",
   "metadata": {},
   "outputs": [],
   "source": [
    "# # Time Series Analysis\n",
    "# plt.figure(figsize=(12, 6))\n",
    "# sns.lineplot(x='created_at', y='last_price', data=df)\n",
    "# plt.title('Time Series Analysis - Last Price over Time')\n",
    "# plt.show()"
   ]
  },
  {
   "cell_type": "code",
   "execution_count": 17,
   "id": "df22580a",
   "metadata": {},
   "outputs": [],
   "source": [
    "# # Distribution of Price_Status\n",
    "# plt.figure(figsize=(8, 6))\n",
    "# sns.countplot(x='Price_Status', data=df)\n",
    "# plt.title('Distribution of Price_Status')\n",
    "# plt.show()"
   ]
  },
  {
   "cell_type": "code",
   "execution_count": 18,
   "id": "5793cf11",
   "metadata": {},
   "outputs": [
    {
     "data": {
      "text/plain": [
       "Index(['last_price', 'created_at', 'date', 'Price_Status'], dtype='object')"
      ]
     },
     "execution_count": 18,
     "metadata": {},
     "output_type": "execute_result"
    }
   ],
   "source": [
    "df.columns"
   ]
  },
  {
   "cell_type": "code",
   "execution_count": 19,
   "id": "44f485a5",
   "metadata": {},
   "outputs": [
    {
     "data": {
      "text/plain": [
       "0    6777\n",
       "1    3223\n",
       "Name: Price_Status, dtype: int64"
      ]
     },
     "execution_count": 19,
     "metadata": {},
     "output_type": "execute_result"
    }
   ],
   "source": [
    "df['Price_Status'].value_counts()"
   ]
  },
  {
   "cell_type": "code",
   "execution_count": 20,
   "id": "de1f488c",
   "metadata": {},
   "outputs": [],
   "source": [
    "# Assuming 'created_at' and 'date' are datetime columns\n",
    "df['created_at'] = pd.to_datetime(df['created_at'])\n",
    "df['date'] = pd.to_datetime(df['date'])"
   ]
  },
  {
   "cell_type": "code",
   "execution_count": 21,
   "id": "1edbaf06",
   "metadata": {},
   "outputs": [],
   "source": [
    "# Extract relevant information from 'created_at'\n",
    "df['created_at_hour'] = df['created_at'].dt.hour\n",
    "df['created_at_minute'] = df['created_at'].dt.minute\n",
    "df['created_at_second'] = df['created_at'].dt.second"
   ]
  },
  {
   "cell_type": "code",
   "execution_count": 22,
   "id": "e7314af5",
   "metadata": {},
   "outputs": [
    {
     "data": {
      "image/png": "[encoded data removed]",
      "text/plain": [
       "<Figure size 864x432 with 1 Axes>"
      ]
     },
     "metadata": {
      "needs_background": "light"
     },
     "output_type": "display_data"
    }
   ],
   "source": [
    "# Time Series Analysis\n",
    "plt.figure(figsize=(12, 6))\n",
    "sns.lineplot(x='created_at', y='last_price', data=df)\n",
    "plt.title('Time Series Analysis - Last Price over Time')\n",
    "plt.show()"
   ]
  },
  {
   "cell_type": "code",
   "execution_count": 23,
   "id": "bbd4d4a3",
   "metadata": {},
   "outputs": [
    {
     "data": {
      "image/png": "[encoded data removed]",
      "text/plain": [
       "<Figure size 864x432 with 1 Axes>"
      ]
     },
     "metadata": {
      "needs_background": "light"
     },
     "output_type": "display_data"
    }
   ],
   "source": [
    "# Time Series Analysis\n",
    "plt.figure(figsize=(12, 6))\n",
    "sns.lineplot(x='created_at_hour', y='last_price', data=df)\n",
    "plt.title('Time Series Analysis - Last Price over hour')\n",
    "plt.show()"
   ]
  },
  {
   "cell_type": "code",
   "execution_count": 24,
   "id": "19c45334",
   "metadata": {},
   "outputs": [
    {
     "data": {
      "image/png": "[encoded data removed]",
      "text/plain": [
       "<Figure size 864x432 with 1 Axes>"
      ]
     },
     "metadata": {
      "needs_background": "light"
     },
     "output_type": "display_data"
    }
   ],
   "source": [
    "# Time Series Analysis\n",
    "plt.figure(figsize=(12, 6))\n",
    "sns.lineplot(x='created_at_minute', y='last_price', data=df)\n",
    "plt.title('Time Series Analysis - Last Price over minute')\n",
    "plt.show()"
   ]
  },
  {
   "cell_type": "code",
   "execution_count": 25,
   "id": "16cf7295",
   "metadata": {},
   "outputs": [
    {
     "data": {
      "image/png": "[encoded data removed]",
      "text/plain": [
       "<Figure size 864x432 with 1 Axes>"
      ]
     },
     "metadata": {
      "needs_background": "light"
     },
     "output_type": "display_data"
    }
   ],
   "source": [
    "# Time Series Analysis\n",
    "plt.figure(figsize=(12, 6))\n",
    "sns.lineplot(x='created_at_second', y='last_price', data=df)\n",
    "plt.title('Time Series Analysis - Last Price over second')\n",
    "plt.show()"
   ]
  },
  {
   "cell_type": "code",
   "execution_count": 26,
   "id": "49e30416",
   "metadata": {},
   "outputs": [
    {
     "name": "stdout",
     "output_type": "stream",
     "text": [
      "<class 'pandas.core.frame.DataFrame'>\n",
      "RangeIndex: 10000 entries, 0 to 9999\n",
      "Data columns (total 7 columns):\n",
      " #   Column             Non-Null Count  Dtype         \n",
      "---  ------             --------------  -----         \n",
      " 0   last_price         10000 non-null  float64       \n",
      " 1   created_at         10000 non-null  datetime64[ns]\n",
      " 2   date               10000 non-null  datetime64[ns]\n",
      " 3   Price_Status       10000 non-null  int32         \n",
      " 4   created_at_hour    10000 non-null  int64         \n",
      " 5   created_at_minute  10000 non-null  int64         \n",
      " 6   created_at_second  10000 non-null  int64         \n",
      "dtypes: datetime64[ns](2), float64(1), int32(1), int64(3)\n",
      "memory usage: 507.9 KB\n"
     ]
    }
   ],
   "source": [
    "df.info()"
   ]
  },
  {
   "cell_type": "code",
   "execution_count": 27,
   "id": "a900a650",
   "metadata": {},
   "outputs": [
    {
     "data": {
      "image/png": "[encoded data removed]",
      "text/plain": [
       "<Figure size 720x576 with 2 Axes>"
      ]
     },
     "metadata": {
      "needs_background": "light"
     },
     "output_type": "display_data"
    }
   ],
   "source": [
    "# Correlation Matrix\n",
    "correlation_matrix = df.corr()\n",
    "plt.figure(figsize=(10, 8))\n",
    "sns.heatmap(correlation_matrix, annot=True, cmap='coolwarm', fmt=\".2f\")\n",
    "plt.title('Correlation Matrix')\n",
    "plt.show()"
   ]
  },
  {
   "cell_type": "code",
   "execution_count": 28,
   "id": "f7bb8ca2",
   "metadata": {},
   "outputs": [],
   "source": [
    "# Step 2: Split the Data\n",
    "X = df.drop(['Price_Status','date','created_at'], axis=1)  # Features\n",
    "y = df['Price_Status']  # Target variable"
   ]
  },
  {
   "cell_type": "code",
   "execution_count": 29,
   "id": "5b5efd39",
   "metadata": {},
   "outputs": [
    {
     "data": {
      "text/html": [
       "<div>\n",
       "<style scoped>\n",
       "    .dataframe tbody tr th:only-of-type {\n",
       "        vertical-align: middle;\n",
       "    }\n",
       "\n",
       "    .dataframe tbody tr th {\n",
       "        vertical-align: top;\n",
       "    }\n",
       "\n",
       "    .dataframe thead th {\n",
       "        text-align: right;\n",
       "    }\n",
       "</style>\n",
       "<table border=\"1\" class=\"dataframe\">\n",
       "  <thead>\n",
       "    <tr style=\"text-align: right;\">\n",
       "      <th></th>\n",
       "      <th>last_price</th>\n",
       "      <th>created_at_hour</th>\n",
       "      <th>created_at_minute</th>\n",
       "      <th>created_at_second</th>\n",
       "    </tr>\n",
       "  </thead>\n",
       "  <tbody>\n",
       "    <tr>\n",
       "      <th>0</th>\n",
       "      <td>43138.2</td>\n",
       "      <td>12</td>\n",
       "      <td>47</td>\n",
       "      <td>41</td>\n",
       "    </tr>\n",
       "    <tr>\n",
       "      <th>1</th>\n",
       "      <td>43138.2</td>\n",
       "      <td>12</td>\n",
       "      <td>47</td>\n",
       "      <td>40</td>\n",
       "    </tr>\n",
       "    <tr>\n",
       "      <th>2</th>\n",
       "      <td>43138.2</td>\n",
       "      <td>12</td>\n",
       "      <td>47</td>\n",
       "      <td>39</td>\n",
       "    </tr>\n",
       "    <tr>\n",
       "      <th>3</th>\n",
       "      <td>43138.2</td>\n",
       "      <td>12</td>\n",
       "      <td>47</td>\n",
       "      <td>38</td>\n",
       "    </tr>\n",
       "    <tr>\n",
       "      <th>4</th>\n",
       "      <td>43132.6</td>\n",
       "      <td>12</td>\n",
       "      <td>47</td>\n",
       "      <td>37</td>\n",
       "    </tr>\n",
       "    <tr>\n",
       "      <th>...</th>\n",
       "      <td>...</td>\n",
       "      <td>...</td>\n",
       "      <td>...</td>\n",
       "      <td>...</td>\n",
       "    </tr>\n",
       "    <tr>\n",
       "      <th>9995</th>\n",
       "      <td>42753.6</td>\n",
       "      <td>10</td>\n",
       "      <td>0</td>\n",
       "      <td>9</td>\n",
       "    </tr>\n",
       "    <tr>\n",
       "      <th>9996</th>\n",
       "      <td>42753.6</td>\n",
       "      <td>10</td>\n",
       "      <td>0</td>\n",
       "      <td>8</td>\n",
       "    </tr>\n",
       "    <tr>\n",
       "      <th>9997</th>\n",
       "      <td>42753.6</td>\n",
       "      <td>10</td>\n",
       "      <td>0</td>\n",
       "      <td>7</td>\n",
       "    </tr>\n",
       "    <tr>\n",
       "      <th>9998</th>\n",
       "      <td>42753.7</td>\n",
       "      <td>10</td>\n",
       "      <td>0</td>\n",
       "      <td>6</td>\n",
       "    </tr>\n",
       "    <tr>\n",
       "      <th>9999</th>\n",
       "      <td>42765.6</td>\n",
       "      <td>10</td>\n",
       "      <td>0</td>\n",
       "      <td>5</td>\n",
       "    </tr>\n",
       "  </tbody>\n",
       "</table>\n",
       "<p>10000 rows × 4 columns</p>\n",
       "</div>"
      ],
      "text/plain": [
       "      last_price  created_at_hour  created_at_minute  created_at_second\n",
       "0        43138.2               12                 47                 41\n",
       "1        43138.2               12                 47                 40\n",
       "2        43138.2               12                 47                 39\n",
       "3        43138.2               12                 47                 38\n",
       "4        43132.6               12                 47                 37\n",
       "...          ...              ...                ...                ...\n",
       "9995     42753.6               10                  0                  9\n",
       "9996     42753.6               10                  0                  8\n",
       "9997     42753.6               10                  0                  7\n",
       "9998     42753.7               10                  0                  6\n",
       "9999     42765.6               10                  0                  5\n",
       "\n",
       "[10000 rows x 4 columns]"
      ]
     },
     "execution_count": 29,
     "metadata": {},
     "output_type": "execute_result"
    }
   ],
   "source": [
    "X"
   ]
  },
  {
   "cell_type": "code",
   "execution_count": 30,
   "id": "756f4d29",
   "metadata": {},
   "outputs": [
    {
     "data": {
      "text/plain": [
       "0       0\n",
       "1       0\n",
       "2       0\n",
       "3       0\n",
       "4       0\n",
       "       ..\n",
       "9995    0\n",
       "9996    0\n",
       "9997    0\n",
       "9998    1\n",
       "9999    1\n",
       "Name: Price_Status, Length: 10000, dtype: int32"
      ]
     },
     "execution_count": 30,
     "metadata": {},
     "output_type": "execute_result"
    }
   ],
   "source": [
    "y"
   ]
  },
  {
   "cell_type": "code",
   "execution_count": 31,
   "id": "9887b561",
   "metadata": {},
   "outputs": [],
   "source": [
    "from sklearn.model_selection import train_test_split\n",
    "from sklearn.svm import SVC\n",
    "from sklearn.metrics import accuracy_score, classification_report, confusion_matrix\n",
    "\n",
    "# Split the data into training and testing sets\n",
    "X_train, X_test, y_train, y_test = train_test_split(X, y, test_size=0.2, random_state=42)"
   ]
  },
  {
   "cell_type": "code",
   "execution_count": 32,
   "id": "2b2ce23d",
   "metadata": {},
   "outputs": [],
   "source": [
    "# Step 3: Choose a Classification Model\n",
    "# Using a Support Vector Machine (SVM) with a linear kernel\n",
    "model = SVC()"
   ]
  },
  {
   "cell_type": "code",
   "execution_count": 33,
   "id": "69d84049",
   "metadata": {},
   "outputs": [
    {
     "data": {
      "text/plain": [
       "SVC()"
      ]
     },
     "execution_count": 33,
     "metadata": {},
     "output_type": "execute_result"
    }
   ],
   "source": [
    "# Step 4: Train the Model\n",
    "model.fit(X_train, y_train)"
   ]
  },
  {
   "cell_type": "code",
   "execution_count": 34,
   "id": "7b151b2f",
   "metadata": {},
   "outputs": [],
   "source": [
    "# Step 5: Evaluate the Model\n",
    "y_pred = model.predict(X_test)"
   ]
  },
  {
   "cell_type": "code",
   "execution_count": 35,
   "id": "f3c0d446",
   "metadata": {},
   "outputs": [
    {
     "name": "stdout",
     "output_type": "stream",
     "text": [
      "Accuracy: 0.696\n",
      "Confusion Matrix:\n",
      "[[1392    0]\n",
      " [ 608    0]]\n",
      "Classification Report:\n",
      "              precision    recall  f1-score   support\n",
      "\n",
      "           0       0.70      1.00      0.82      1392\n",
      "           1       0.00      0.00      0.00       608\n",
      "\n",
      "    accuracy                           0.70      2000\n",
      "   macro avg       0.35      0.50      0.41      2000\n",
      "weighted avg       0.48      0.70      0.57      2000\n",
      "\n"
     ]
    },
    {
     "name": "stderr",
     "output_type": "stream",
     "text": [
      "C:\\Users\\Hamza_Mustafa\\anaconda3\\lib\\site-packages\\sklearn\\metrics\\_classification.py:1318: UndefinedMetricWarning: Precision and F-score are ill-defined and being set to 0.0 in labels with no predicted samples. Use `zero_division` parameter to control this behavior.\n",
      "  _warn_prf(average, modifier, msg_start, len(result))\n",
      "C:\\Users\\Hamza_Mustafa\\anaconda3\\lib\\site-packages\\sklearn\\metrics\\_classification.py:1318: UndefinedMetricWarning: Precision and F-score are ill-defined and being set to 0.0 in labels with no predicted samples. Use `zero_division` parameter to control this behavior.\n",
      "  _warn_prf(average, modifier, msg_start, len(result))\n",
      "C:\\Users\\Hamza_Mustafa\\anaconda3\\lib\\site-packages\\sklearn\\metrics\\_classification.py:1318: UndefinedMetricWarning: Precision and F-score are ill-defined and being set to 0.0 in labels with no predicted samples. Use `zero_division` parameter to control this behavior.\n",
      "  _warn_prf(average, modifier, msg_start, len(result))\n"
     ]
    }
   ],
   "source": [
    "# Evaluate the model\n",
    "accuracy = accuracy_score(y_test, y_pred)\n",
    "conf_matrix = confusion_matrix(y_test, y_pred)\n",
    "classification_rep = classification_report(y_test, y_pred)\n",
    "\n",
    "print(f\"Accuracy: {accuracy}\")\n",
    "print(f\"Confusion Matrix:\\n{conf_matrix}\")\n",
    "print(f\"Classification Report:\\n{classification_rep}\")"
   ]
  }
 ],
 "metadata": {
  "kernelspec": {
   "display_name": "Python 3 (ipykernel)",
   "language": "python",
   "name": "python3"
  },
  "language_info": {
   "codemirror_mode": {
    "name": "ipython",
    "version": 3
   },
   "file_extension": ".py",
   "mimetype": "text/x-python",
   "name": "python",
   "nbconvert_exporter": "python",
   "pygments_lexer": "ipython3",
   "version": "3.9.12"
  }
 },
 "nbformat": 4,
 "nbformat_minor": 5
}
