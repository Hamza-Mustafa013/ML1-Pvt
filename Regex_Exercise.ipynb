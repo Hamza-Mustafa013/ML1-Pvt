{
 "cells": [
  {
   "cell_type": "markdown",
   "id": "1940c91d",
   "metadata": {},
   "source": [
    "### Questions 1\n",
    "\n",
    "Write a Python program to check that a string contains only a certain set of characters (in this case a-z, A-Z and 0-9)."
   ]
  },
  {
   "cell_type": "code",
   "execution_count": 47,
   "id": "fb788c99",
   "metadata": {},
   "outputs": [
    {
     "name": "stdout",
     "output_type": "stream",
     "text": [
      "Enter String: The Hamza\n",
      "The string 'The Hamza' contains only allowed characters.\n"
     ]
    }
   ],
   "source": [
    "import re\n",
    "\n",
    "def check_string(input_str):\n",
    "    if re.match('^[a-z A-Z 0-9]+$',input_str):\n",
    "        return True\n",
    "    else:\n",
    "        return False\n",
    "\n",
    "input_str = input(\"Enter String: \")\n",
    "result = check_string(input_str)\n",
    "if result:\n",
    "    print(f\"The string '{input_str}' contains only allowed characters.\")\n",
    "else:\n",
    "    print(\"Error: The string should contain only lowercase letters.\")"
   ]
  },
  {
   "cell_type": "markdown",
   "id": "36b773c3",
   "metadata": {},
   "source": [
    "### Question 2\n",
    "\n",
    "Write a Python program that matches a string that has an a followed by zero or more b's."
   ]
  },
  {
   "cell_type": "code",
   "execution_count": 55,
   "id": "a552493a",
   "metadata": {},
   "outputs": [
    {
     "name": "stdout",
     "output_type": "stream",
     "text": [
      "The string 'a' matches the pattern.\n",
      "The string 'ab' matches the pattern.\n",
      "The string 'abb' matches the pattern.\n",
      "The string 'aabb' does not match the pattern.\n",
      "The string 'ba' does not match the pattern.\n",
      "The string 'xyz' does not match the pattern.\n"
     ]
    }
   ],
   "source": [
    "def match_pattern(input_str):\n",
    "    pattern = '^a(b*)$'\n",
    "    if re.match(pattern, input_str):\n",
    "        print(f\"The string '{input_str}' matches the pattern.\")\n",
    "    else:\n",
    "        print(f\"The string '{input_str}' does not match the pattern.\")\n",
    "\n",
    "match_pattern('a')    \n",
    "match_pattern('ab')    \n",
    "match_pattern('abb')   \n",
    "match_pattern('aabb') \n",
    "match_pattern('ba')     \n",
    "match_pattern('xyz')    "
   ]
  },
  {
   "cell_type": "markdown",
   "id": "673d61a9",
   "metadata": {},
   "source": [
    "### Question 3\n",
    "\n",
    "Write a Python program that matches a string that has an a followed by one or more b's."
   ]
  },
  {
   "cell_type": "code",
   "execution_count": 61,
   "id": "7e0fb77a",
   "metadata": {},
   "outputs": [
    {
     "name": "stdout",
     "output_type": "stream",
     "text": [
      "The string 'aa' does not match the pattern.\n",
      "The string 'ab' matches the pattern.\n",
      "The string 'abb' matches the pattern.\n",
      "The string 'aabb' does not match the pattern.\n",
      "The string 'ba' does not match the pattern.\n",
      "The string 'xyz' does not match the pattern.\n"
     ]
    }
   ],
   "source": [
    "def match_pattern(input_str):\n",
    "    pattern = '^a(b+)$'\n",
    "    if re.match(pattern, input_str):\n",
    "        print(f\"The string '{input_str}' matches the pattern.\")\n",
    "    else:\n",
    "        print(f\"The string '{input_str}' does not match the pattern.\")\n",
    "\n",
    "match_pattern('aa')    \n",
    "match_pattern('ab')    \n",
    "match_pattern('abb')   \n",
    "match_pattern('aabb') \n",
    "match_pattern('ba')     \n",
    "match_pattern('xyz')"
   ]
  },
  {
   "cell_type": "markdown",
   "id": "8494f5a8",
   "metadata": {},
   "source": [
    "### Question 4\n",
    "Write a Python program that matches a string that has an a followed by zero or one 'b'."
   ]
  },
  {
   "cell_type": "code",
   "execution_count": 66,
   "id": "df4a9688",
   "metadata": {},
   "outputs": [
    {
     "name": "stdout",
     "output_type": "stream",
     "text": [
      "The string 'a' matches the pattern.\n",
      "The string 'ab' matches the pattern.\n",
      "The string 'abb' does not match the pattern.\n",
      "The string 'aabb' does not match the pattern.\n",
      "The string 'ba' does not match the pattern.\n",
      "The string 'xyz' does not match the pattern.\n"
     ]
    }
   ],
   "source": [
    "def match_pattern(input_str):\n",
    "    pattern = '^a(b?)$'\n",
    "    if re.match(pattern, input_str):\n",
    "        print(f\"The string '{input_str}' matches the pattern.\")\n",
    "    else:\n",
    "        print(f\"The string '{input_str}' does not match the pattern.\")\n",
    "\n",
    "match_pattern('a')    \n",
    "match_pattern('ab')    \n",
    "match_pattern('abb')   \n",
    "match_pattern('aabb') \n",
    "match_pattern('ba')     \n",
    "match_pattern('xyz')"
   ]
  },
  {
   "cell_type": "markdown",
   "id": "cb6b8dc8",
   "metadata": {},
   "source": [
    "### Question 5\n",
    "Write a Python program to find sequences of lowercase letters joined by an underscore."
   ]
  },
  {
   "cell_type": "code",
   "execution_count": 68,
   "id": "fcf95464",
   "metadata": {},
   "outputs": [
    {
     "name": "stdout",
     "output_type": "stream",
     "text": [
      "The string 'a' does not contains lowercase latters with underscore.\n",
      "The string 'ab' does not contains lowercase latters with underscore.\n",
      "The string 'a_bb' contains lowercase latters with underscore.\n",
      "The string 'aab_cbbbc' contains lowercase latters with underscore.\n"
     ]
    }
   ],
   "source": [
    "def text_match(input_str):\n",
    "    pattern = '^[a-z]+_[a-z]+$'\n",
    "    if re.match(pattern, input_str):\n",
    "        print(f\"The string '{input_str}' contains lowercase latters with underscore.\")\n",
    "    else:\n",
    "        print(f\"The string '{input_str}' does not contains lowercase latters with underscore.\")\n",
    "\n",
    "text_match('a')    \n",
    "text_match('ab')    \n",
    "text_match('a_bb')   \n",
    "text_match('aab_cbbbc')"
   ]
  },
  {
   "cell_type": "markdown",
   "id": "3f07cde8",
   "metadata": {},
   "source": [
    "### Question 6\n",
    "Write a Python program that matches a word at the beginning of a string."
   ]
  },
  {
   "cell_type": "code",
   "execution_count": 71,
   "id": "f7b852af",
   "metadata": {},
   "outputs": [
    {
     "name": "stdout",
     "output_type": "stream",
     "text": [
      "Match Found\n",
      "Match Not Found\n"
     ]
    }
   ],
   "source": [
    "def word_match(input_str):\n",
    "    pattern = '^\\w+'\n",
    "    if re.match(pattern, input_str):\n",
    "        print(\"Match Found\")\n",
    "    else:\n",
    "        print(\"Match Not Found\")\n",
    "\n",
    "word_match(\"The quick brown fox jumps over the lazy dog.\")\n",
    "word_match(\" The quick brown fox jumps over the lazy dog.\")"
   ]
  },
  {
   "cell_type": "markdown",
   "id": "170c8d78",
   "metadata": {},
   "source": [
    "### Question 7\n",
    "Write a Python program that matches a word containing 'z'."
   ]
  },
  {
   "cell_type": "code",
   "execution_count": 74,
   "id": "c5c796b8",
   "metadata": {},
   "outputs": [
    {
     "name": "stdout",
     "output_type": "stream",
     "text": [
      "Match Found\n",
      "Match Not Found\n"
     ]
    }
   ],
   "source": [
    "def z_word_match(input_str):\n",
    "    pattern = '\\w*z.\\w*'\n",
    "    if re.search(pattern, input_str):\n",
    "        print(\"Match Found\")\n",
    "    else:\n",
    "        print(\"Match Not Found\")\n",
    "\n",
    "z_word_match(\"The quick brown fox jumps over the lazy dog.\")\n",
    "z_word_match(\"Python Exercises.\")"
   ]
  },
  {
   "cell_type": "markdown",
   "id": "c2d89556",
   "metadata": {},
   "source": [
    "### Question 8\n",
    "Write a Python program to match a string that contains only upper and lowercase letters, numbers, and underscores."
   ]
  },
  {
   "cell_type": "code",
   "execution_count": 82,
   "id": "a1958601",
   "metadata": {},
   "outputs": [
    {
     "name": "stdout",
     "output_type": "stream",
     "text": [
      "Match Not Found\n",
      "Match Found\n"
     ]
    }
   ],
   "source": [
    "def match(input_str):\n",
    "    pattern = '^[a-zA-Z0-9_]*$'\n",
    "    if re.search(pattern, input_str):\n",
    "        print(\"Match Found\")\n",
    "    else:\n",
    "        print(\"Match Not Found\")\n",
    "\n",
    "match(\"The quick brown fox jumps over the lazy dog.\")\n",
    "match(\"Python_Exercises_1\")"
   ]
  },
  {
   "cell_type": "markdown",
   "id": "c476a75a",
   "metadata": {},
   "source": [
    "### Question 9\n",
    "Write a Python program to search for literal strings within a string.<br>\n",
    "Sample text : 'The quick brown fox jumps over the lazy dog.'<br>\n",
    "Searched words : 'fox', 'dog', 'horse'<br>"
   ]
  },
  {
   "cell_type": "code",
   "execution_count": 83,
   "id": "62fdfa6c",
   "metadata": {},
   "outputs": [
    {
     "name": "stdout",
     "output_type": "stream",
     "text": [
      "Searching for \"fox\" in \"The quick brown fox jumps over the lazy dog.\" ->\n",
      "Matched!\n",
      "Searching for \"dog\" in \"The quick brown fox jumps over the lazy dog.\" ->\n",
      "Matched!\n",
      "Searching for \"horse\" in \"The quick brown fox jumps over the lazy dog.\" ->\n",
      "Not Matched!\n"
     ]
    }
   ],
   "source": [
    "import re\n",
    "patterns = [ 'fox', 'dog', 'horse' ]\n",
    "text = 'The quick brown fox jumps over the lazy dog.'\n",
    "for pattern in patterns:\n",
    "    print('Searching for \"%s\" in \"%s\" ->' % (pattern, text),)\n",
    "    if re.search(pattern,  text):\n",
    "        print('Matched!')\n",
    "    else:\n",
    "        print('Not Matched!')"
   ]
  },
  {
   "cell_type": "markdown",
   "id": "5da7e932",
   "metadata": {},
   "source": [
    "### Question 10\n",
    "Write a Python program to search for a literal string in a string and also find the location within the original string where the pattern occurs.<br>\n",
    "\n",
    "Sample text : 'The quick brown fox jumps over the lazy dog.'<br>\n",
    "Searched words : 'fox'<br>\n",
    "\n"
   ]
  },
  {
   "cell_type": "code",
   "execution_count": 84,
   "id": "a540ad56",
   "metadata": {},
   "outputs": [
    {
     "name": "stdout",
     "output_type": "stream",
     "text": [
      "Found \"fox\" in \"The quick brown fox jumps over the lazy dog.\" from 16 to 19 \n"
     ]
    }
   ],
   "source": [
    "import re\n",
    "pattern = 'fox'\n",
    "text = 'The quick brown fox jumps over the lazy dog.'\n",
    "match = re.search(pattern, text)\n",
    "s = match.start()\n",
    "e = match.end()\n",
    "print('Found \"%s\" in \"%s\" from %d to %d ' % \\\n",
    "    (match.re.pattern, match.string, s, e))"
   ]
  },
  {
   "cell_type": "markdown",
   "id": "3c788609",
   "metadata": {},
   "source": [
    "### Question 11\n",
    "Write a Python program that checks whether a word starts and ends with a vowel in a given string. Return true if a word matches the condition; otherwise, return false.<br>\n",
    "Sample Data:<br>\n",
    "(\"Red Orange White\") -> True<br>\n",
    "(\"Red White Black\") -> False<br>\n",
    "(\"abcd dkise eosksu\") -> True<br>"
   ]
  },
  {
   "cell_type": "code",
   "execution_count": 1,
   "id": "6a5c8575",
   "metadata": {},
   "outputs": [
    {
     "name": "stdout",
     "output_type": "stream",
     "text": [
      "Original string: Red Orange White\n",
      "Check beginning and end of a word in the said string with a vowel:\n",
      "True\n",
      "\n",
      "Original string: Red White Black\n",
      "Check beginning and end of a word in the said string with a vowel:\n",
      "False\n",
      "\n",
      "Original string: abcd dkise eosksu\n",
      "Check beginning and end of a word in the said string with a vowel:\n",
      "True\n"
     ]
    }
   ],
   "source": [
    "import re\n",
    "def test(text):\n",
    "    return bool(re.findall('[/^[aeiou]$|^([aeiou]).*\\1$/', text))\n",
    "\n",
    "text =\"Red Orange White\"\n",
    "print(\"Original string:\", text)\n",
    "print(\"Check beginning and end of a word in the said string with a vowel:\")\n",
    "print(test(text))\n",
    "text =\"Red White Black\"\n",
    "print(\"\\nOriginal string:\", text)\n",
    "print(\"Check beginning and end of a word in the said string with a vowel:\")\n",
    "print(test(text))\n",
    "text =\"abcd dkise eosksu\"\n",
    "print(\"\\nOriginal string:\", text)\n",
    "print(\"Check beginning and end of a word in the said string with a vowel:\")\n",
    "print(test(text))"
   ]
  },
  {
   "cell_type": "markdown",
   "id": "9bc8c2bb",
   "metadata": {},
   "source": [
    "### Question 12\n",
    "Write a Python program that takes a string with some words. For two consecutive words in the said string, check whether the first word ends with a vowel and the next word begins with a vowel. If the program meets the condition, return true, otherwise false. Only one space is allowed between the words.<br>\n",
    "Sample Data:<br>\n",
    "(\"These exercises can be used for practice.\") -> True<br>\n",
    "(\"Following exercises should be removed for practice.\") -> False<br>\n",
    "(\"I use these stories in my classroom.\") -> True<br>"
   ]
  },
  {
   "cell_type": "code",
   "execution_count": 3,
   "id": "3b5f1d7b",
   "metadata": {},
   "outputs": [
    {
     "name": "stdout",
     "output_type": "stream",
     "text": [
      "Original string: These exercises can be used for practice.\n",
      "True\n",
      "\n",
      "Original string: Following exercises should be removed for practice.\n",
      "False\n"
     ]
    }
   ],
   "source": [
    "import re\n",
    "def test(text):\n",
    "    return bool(re.findall('[AEIOUaeiou] [AEIOUaeiou]', text))\n",
    "\n",
    "text =\"These exercises can be used for practice.\"\n",
    "print(\"Original string:\", text)\n",
    "print(test(text))\n",
    "text =\"Following exercises should be removed for practice.\"\n",
    "print(\"\\nOriginal string:\", text)\n",
    "print(test(text))"
   ]
  }
 ],
 "metadata": {
  "kernelspec": {
   "display_name": "Python 3 (ipykernel)",
   "language": "python",
   "name": "python3"
  },
  "language_info": {
   "codemirror_mode": {
    "name": "ipython",
    "version": 3
   },
   "file_extension": ".py",
   "mimetype": "text/x-python",
   "name": "python",
   "nbconvert_exporter": "python",
   "pygments_lexer": "ipython3",
   "version": "3.9.12"
  }
 },
 "nbformat": 4,
 "nbformat_minor": 5
}
