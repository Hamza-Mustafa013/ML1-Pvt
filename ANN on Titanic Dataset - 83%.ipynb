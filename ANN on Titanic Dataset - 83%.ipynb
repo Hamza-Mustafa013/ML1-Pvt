{
 "cells": [
  {
   "cell_type": "code",
   "execution_count": 1,
   "id": "b433f72b",
   "metadata": {},
   "outputs": [],
   "source": [
    "import numpy as np\n",
    "import pandas as pd\n",
    "import matplotlib.pyplot as plt\n",
    "import seaborn as sns"
   ]
  },
  {
   "cell_type": "code",
   "execution_count": 2,
   "id": "4343eceb",
   "metadata": {},
   "outputs": [
    {
     "data": {
      "text/html": [
       "<div>\n",
       "<style scoped>\n",
       "    .dataframe tbody tr th:only-of-type {\n",
       "        vertical-align: middle;\n",
       "    }\n",
       "\n",
       "    .dataframe tbody tr th {\n",
       "        vertical-align: top;\n",
       "    }\n",
       "\n",
       "    .dataframe thead th {\n",
       "        text-align: right;\n",
       "    }\n",
       "</style>\n",
       "<table border=\"1\" class=\"dataframe\">\n",
       "  <thead>\n",
       "    <tr style=\"text-align: right;\">\n",
       "      <th></th>\n",
       "      <th>PassengerId</th>\n",
       "      <th>Survived</th>\n",
       "      <th>Pclass</th>\n",
       "      <th>Name</th>\n",
       "      <th>Sex</th>\n",
       "      <th>Age</th>\n",
       "      <th>SibSp</th>\n",
       "      <th>Parch</th>\n",
       "      <th>Ticket</th>\n",
       "      <th>Fare</th>\n",
       "      <th>Cabin</th>\n",
       "      <th>Embarked</th>\n",
       "    </tr>\n",
       "  </thead>\n",
       "  <tbody>\n",
       "    <tr>\n",
       "      <th>0</th>\n",
       "      <td>1</td>\n",
       "      <td>0</td>\n",
       "      <td>3</td>\n",
       "      <td>Braund, Mr. Owen Harris</td>\n",
       "      <td>male</td>\n",
       "      <td>22.0</td>\n",
       "      <td>1</td>\n",
       "      <td>0</td>\n",
       "      <td>A/5 21171</td>\n",
       "      <td>7.2500</td>\n",
       "      <td>NaN</td>\n",
       "      <td>S</td>\n",
       "    </tr>\n",
       "    <tr>\n",
       "      <th>1</th>\n",
       "      <td>2</td>\n",
       "      <td>1</td>\n",
       "      <td>1</td>\n",
       "      <td>Cumings, Mrs. John Bradley (Florence Briggs Th...</td>\n",
       "      <td>female</td>\n",
       "      <td>38.0</td>\n",
       "      <td>1</td>\n",
       "      <td>0</td>\n",
       "      <td>PC 17599</td>\n",
       "      <td>71.2833</td>\n",
       "      <td>C85</td>\n",
       "      <td>C</td>\n",
       "    </tr>\n",
       "    <tr>\n",
       "      <th>2</th>\n",
       "      <td>3</td>\n",
       "      <td>1</td>\n",
       "      <td>3</td>\n",
       "      <td>Heikkinen, Miss. Laina</td>\n",
       "      <td>female</td>\n",
       "      <td>26.0</td>\n",
       "      <td>0</td>\n",
       "      <td>0</td>\n",
       "      <td>STON/O2. 3101282</td>\n",
       "      <td>7.9250</td>\n",
       "      <td>NaN</td>\n",
       "      <td>S</td>\n",
       "    </tr>\n",
       "    <tr>\n",
       "      <th>3</th>\n",
       "      <td>4</td>\n",
       "      <td>1</td>\n",
       "      <td>1</td>\n",
       "      <td>Futrelle, Mrs. Jacques Heath (Lily May Peel)</td>\n",
       "      <td>female</td>\n",
       "      <td>35.0</td>\n",
       "      <td>1</td>\n",
       "      <td>0</td>\n",
       "      <td>113803</td>\n",
       "      <td>53.1000</td>\n",
       "      <td>C123</td>\n",
       "      <td>S</td>\n",
       "    </tr>\n",
       "    <tr>\n",
       "      <th>4</th>\n",
       "      <td>5</td>\n",
       "      <td>0</td>\n",
       "      <td>3</td>\n",
       "      <td>Allen, Mr. William Henry</td>\n",
       "      <td>male</td>\n",
       "      <td>35.0</td>\n",
       "      <td>0</td>\n",
       "      <td>0</td>\n",
       "      <td>373450</td>\n",
       "      <td>8.0500</td>\n",
       "      <td>NaN</td>\n",
       "      <td>S</td>\n",
       "    </tr>\n",
       "  </tbody>\n",
       "</table>\n",
       "</div>"
      ],
      "text/plain": [
       "   PassengerId  Survived  Pclass  \\\n",
       "0            1         0       3   \n",
       "1            2         1       1   \n",
       "2            3         1       3   \n",
       "3            4         1       1   \n",
       "4            5         0       3   \n",
       "\n",
       "                                                Name     Sex   Age  SibSp  \\\n",
       "0                            Braund, Mr. Owen Harris    male  22.0      1   \n",
       "1  Cumings, Mrs. John Bradley (Florence Briggs Th...  female  38.0      1   \n",
       "2                             Heikkinen, Miss. Laina  female  26.0      0   \n",
       "3       Futrelle, Mrs. Jacques Heath (Lily May Peel)  female  35.0      1   \n",
       "4                           Allen, Mr. William Henry    male  35.0      0   \n",
       "\n",
       "   Parch            Ticket     Fare Cabin Embarked  \n",
       "0      0         A/5 21171   7.2500   NaN        S  \n",
       "1      0          PC 17599  71.2833   C85        C  \n",
       "2      0  STON/O2. 3101282   7.9250   NaN        S  \n",
       "3      0            113803  53.1000  C123        S  \n",
       "4      0            373450   8.0500   NaN        S  "
      ]
     },
     "execution_count": 2,
     "metadata": {},
     "output_type": "execute_result"
    }
   ],
   "source": [
    "df = pd.read_csv(\"titanic.csv\")\n",
    "df.head()"
   ]
  },
  {
   "cell_type": "code",
   "execution_count": 3,
   "id": "892e76c9",
   "metadata": {},
   "outputs": [
    {
     "name": "stdout",
     "output_type": "stream",
     "text": [
      "<class 'pandas.core.frame.DataFrame'>\n",
      "RangeIndex: 891 entries, 0 to 890\n",
      "Data columns (total 12 columns):\n",
      " #   Column       Non-Null Count  Dtype  \n",
      "---  ------       --------------  -----  \n",
      " 0   PassengerId  891 non-null    int64  \n",
      " 1   Survived     891 non-null    int64  \n",
      " 2   Pclass       891 non-null    int64  \n",
      " 3   Name         891 non-null    object \n",
      " 4   Sex          891 non-null    object \n",
      " 5   Age          714 non-null    float64\n",
      " 6   SibSp        891 non-null    int64  \n",
      " 7   Parch        891 non-null    int64  \n",
      " 8   Ticket       891 non-null    object \n",
      " 9   Fare         891 non-null    float64\n",
      " 10  Cabin        204 non-null    object \n",
      " 11  Embarked     889 non-null    object \n",
      "dtypes: float64(2), int64(5), object(5)\n",
      "memory usage: 83.7+ KB\n"
     ]
    }
   ],
   "source": [
    "df.info()"
   ]
  },
  {
   "cell_type": "code",
   "execution_count": 4,
   "id": "6c523170",
   "metadata": {},
   "outputs": [
    {
     "data": {
      "text/plain": [
       "PassengerId      0\n",
       "Survived         0\n",
       "Pclass           0\n",
       "Name             0\n",
       "Sex              0\n",
       "Age            177\n",
       "SibSp            0\n",
       "Parch            0\n",
       "Ticket           0\n",
       "Fare             0\n",
       "Cabin          687\n",
       "Embarked         2\n",
       "dtype: int64"
      ]
     },
     "execution_count": 4,
     "metadata": {},
     "output_type": "execute_result"
    }
   ],
   "source": [
    "df.isnull().sum()"
   ]
  },
  {
   "cell_type": "code",
   "execution_count": 5,
   "id": "84048772",
   "metadata": {},
   "outputs": [
    {
     "data": {
      "text/plain": [
       "(891, 12)"
      ]
     },
     "execution_count": 5,
     "metadata": {},
     "output_type": "execute_result"
    }
   ],
   "source": [
    "df.shape"
   ]
  },
  {
   "cell_type": "code",
   "execution_count": 6,
   "id": "87287381",
   "metadata": {},
   "outputs": [
    {
     "data": {
      "text/html": [
       "<div>\n",
       "<style scoped>\n",
       "    .dataframe tbody tr th:only-of-type {\n",
       "        vertical-align: middle;\n",
       "    }\n",
       "\n",
       "    .dataframe tbody tr th {\n",
       "        vertical-align: top;\n",
       "    }\n",
       "\n",
       "    .dataframe thead th {\n",
       "        text-align: right;\n",
       "    }\n",
       "</style>\n",
       "<table border=\"1\" class=\"dataframe\">\n",
       "  <thead>\n",
       "    <tr style=\"text-align: right;\">\n",
       "      <th></th>\n",
       "      <th>0</th>\n",
       "    </tr>\n",
       "  </thead>\n",
       "  <tbody>\n",
       "    <tr>\n",
       "      <th>PassengerId</th>\n",
       "      <td>int64</td>\n",
       "    </tr>\n",
       "    <tr>\n",
       "      <th>Survived</th>\n",
       "      <td>int64</td>\n",
       "    </tr>\n",
       "    <tr>\n",
       "      <th>Pclass</th>\n",
       "      <td>int64</td>\n",
       "    </tr>\n",
       "    <tr>\n",
       "      <th>Name</th>\n",
       "      <td>object</td>\n",
       "    </tr>\n",
       "    <tr>\n",
       "      <th>Sex</th>\n",
       "      <td>object</td>\n",
       "    </tr>\n",
       "    <tr>\n",
       "      <th>Age</th>\n",
       "      <td>float64</td>\n",
       "    </tr>\n",
       "    <tr>\n",
       "      <th>SibSp</th>\n",
       "      <td>int64</td>\n",
       "    </tr>\n",
       "    <tr>\n",
       "      <th>Parch</th>\n",
       "      <td>int64</td>\n",
       "    </tr>\n",
       "    <tr>\n",
       "      <th>Ticket</th>\n",
       "      <td>object</td>\n",
       "    </tr>\n",
       "    <tr>\n",
       "      <th>Fare</th>\n",
       "      <td>float64</td>\n",
       "    </tr>\n",
       "    <tr>\n",
       "      <th>Cabin</th>\n",
       "      <td>object</td>\n",
       "    </tr>\n",
       "    <tr>\n",
       "      <th>Embarked</th>\n",
       "      <td>object</td>\n",
       "    </tr>\n",
       "  </tbody>\n",
       "</table>\n",
       "</div>"
      ],
      "text/plain": [
       "                   0\n",
       "PassengerId    int64\n",
       "Survived       int64\n",
       "Pclass         int64\n",
       "Name          object\n",
       "Sex           object\n",
       "Age          float64\n",
       "SibSp          int64\n",
       "Parch          int64\n",
       "Ticket        object\n",
       "Fare         float64\n",
       "Cabin         object\n",
       "Embarked      object"
      ]
     },
     "execution_count": 6,
     "metadata": {},
     "output_type": "execute_result"
    }
   ],
   "source": [
    "# identify datatypes of the 12 columns, add the stats to the datadict\n",
    "datadict = pd.DataFrame(df.dtypes)\n",
    "datadict"
   ]
  },
  {
   "cell_type": "code",
   "execution_count": 7,
   "id": "9bb2d2c5",
   "metadata": {},
   "outputs": [
    {
     "data": {
      "text/html": [
       "<div>\n",
       "<style scoped>\n",
       "    .dataframe tbody tr th:only-of-type {\n",
       "        vertical-align: middle;\n",
       "    }\n",
       "\n",
       "    .dataframe tbody tr th {\n",
       "        vertical-align: top;\n",
       "    }\n",
       "\n",
       "    .dataframe thead th {\n",
       "        text-align: right;\n",
       "    }\n",
       "</style>\n",
       "<table border=\"1\" class=\"dataframe\">\n",
       "  <thead>\n",
       "    <tr style=\"text-align: right;\">\n",
       "      <th></th>\n",
       "      <th>0</th>\n",
       "      <th>MissingVal</th>\n",
       "    </tr>\n",
       "  </thead>\n",
       "  <tbody>\n",
       "    <tr>\n",
       "      <th>PassengerId</th>\n",
       "      <td>int64</td>\n",
       "      <td>0</td>\n",
       "    </tr>\n",
       "    <tr>\n",
       "      <th>Survived</th>\n",
       "      <td>int64</td>\n",
       "      <td>0</td>\n",
       "    </tr>\n",
       "    <tr>\n",
       "      <th>Pclass</th>\n",
       "      <td>int64</td>\n",
       "      <td>0</td>\n",
       "    </tr>\n",
       "    <tr>\n",
       "      <th>Name</th>\n",
       "      <td>object</td>\n",
       "      <td>0</td>\n",
       "    </tr>\n",
       "    <tr>\n",
       "      <th>Sex</th>\n",
       "      <td>object</td>\n",
       "      <td>0</td>\n",
       "    </tr>\n",
       "    <tr>\n",
       "      <th>Age</th>\n",
       "      <td>float64</td>\n",
       "      <td>177</td>\n",
       "    </tr>\n",
       "    <tr>\n",
       "      <th>SibSp</th>\n",
       "      <td>int64</td>\n",
       "      <td>0</td>\n",
       "    </tr>\n",
       "    <tr>\n",
       "      <th>Parch</th>\n",
       "      <td>int64</td>\n",
       "      <td>0</td>\n",
       "    </tr>\n",
       "    <tr>\n",
       "      <th>Ticket</th>\n",
       "      <td>object</td>\n",
       "      <td>0</td>\n",
       "    </tr>\n",
       "    <tr>\n",
       "      <th>Fare</th>\n",
       "      <td>float64</td>\n",
       "      <td>0</td>\n",
       "    </tr>\n",
       "    <tr>\n",
       "      <th>Cabin</th>\n",
       "      <td>object</td>\n",
       "      <td>687</td>\n",
       "    </tr>\n",
       "    <tr>\n",
       "      <th>Embarked</th>\n",
       "      <td>object</td>\n",
       "      <td>2</td>\n",
       "    </tr>\n",
       "  </tbody>\n",
       "</table>\n",
       "</div>"
      ],
      "text/plain": [
       "                   0  MissingVal\n",
       "PassengerId    int64           0\n",
       "Survived       int64           0\n",
       "Pclass         int64           0\n",
       "Name          object           0\n",
       "Sex           object           0\n",
       "Age          float64         177\n",
       "SibSp          int64           0\n",
       "Parch          int64           0\n",
       "Ticket        object           0\n",
       "Fare         float64           0\n",
       "Cabin         object         687\n",
       "Embarked      object           2"
      ]
     },
     "execution_count": 7,
     "metadata": {},
     "output_type": "execute_result"
    }
   ],
   "source": [
    "# identify missing values of the 11 columns,add the stats to the datadict\n",
    "datadict['MissingVal'] = df.isnull().sum()\n",
    "datadict"
   ]
  },
  {
   "cell_type": "code",
   "execution_count": 9,
   "id": "5d11f653",
   "metadata": {},
   "outputs": [
    {
     "data": {
      "text/html": [
       "<div>\n",
       "<style scoped>\n",
       "    .dataframe tbody tr th:only-of-type {\n",
       "        vertical-align: middle;\n",
       "    }\n",
       "\n",
       "    .dataframe tbody tr th {\n",
       "        vertical-align: top;\n",
       "    }\n",
       "\n",
       "    .dataframe thead th {\n",
       "        text-align: right;\n",
       "    }\n",
       "</style>\n",
       "<table border=\"1\" class=\"dataframe\">\n",
       "  <thead>\n",
       "    <tr style=\"text-align: right;\">\n",
       "      <th></th>\n",
       "      <th>PassengerId</th>\n",
       "      <th>Survived</th>\n",
       "      <th>Pclass</th>\n",
       "      <th>Age</th>\n",
       "      <th>SibSp</th>\n",
       "      <th>Parch</th>\n",
       "      <th>Fare</th>\n",
       "    </tr>\n",
       "  </thead>\n",
       "  <tbody>\n",
       "    <tr>\n",
       "      <th>count</th>\n",
       "      <td>891.000000</td>\n",
       "      <td>891.000000</td>\n",
       "      <td>891.000000</td>\n",
       "      <td>714.000000</td>\n",
       "      <td>891.000000</td>\n",
       "      <td>891.000000</td>\n",
       "      <td>891.000000</td>\n",
       "    </tr>\n",
       "    <tr>\n",
       "      <th>mean</th>\n",
       "      <td>446.000000</td>\n",
       "      <td>0.383838</td>\n",
       "      <td>2.308642</td>\n",
       "      <td>29.699118</td>\n",
       "      <td>0.523008</td>\n",
       "      <td>0.381594</td>\n",
       "      <td>32.204208</td>\n",
       "    </tr>\n",
       "    <tr>\n",
       "      <th>std</th>\n",
       "      <td>257.353842</td>\n",
       "      <td>0.486592</td>\n",
       "      <td>0.836071</td>\n",
       "      <td>14.526497</td>\n",
       "      <td>1.102743</td>\n",
       "      <td>0.806057</td>\n",
       "      <td>49.693429</td>\n",
       "    </tr>\n",
       "    <tr>\n",
       "      <th>min</th>\n",
       "      <td>1.000000</td>\n",
       "      <td>0.000000</td>\n",
       "      <td>1.000000</td>\n",
       "      <td>0.420000</td>\n",
       "      <td>0.000000</td>\n",
       "      <td>0.000000</td>\n",
       "      <td>0.000000</td>\n",
       "    </tr>\n",
       "    <tr>\n",
       "      <th>25%</th>\n",
       "      <td>223.500000</td>\n",
       "      <td>0.000000</td>\n",
       "      <td>2.000000</td>\n",
       "      <td>20.125000</td>\n",
       "      <td>0.000000</td>\n",
       "      <td>0.000000</td>\n",
       "      <td>7.910400</td>\n",
       "    </tr>\n",
       "    <tr>\n",
       "      <th>50%</th>\n",
       "      <td>446.000000</td>\n",
       "      <td>0.000000</td>\n",
       "      <td>3.000000</td>\n",
       "      <td>28.000000</td>\n",
       "      <td>0.000000</td>\n",
       "      <td>0.000000</td>\n",
       "      <td>14.454200</td>\n",
       "    </tr>\n",
       "    <tr>\n",
       "      <th>75%</th>\n",
       "      <td>668.500000</td>\n",
       "      <td>1.000000</td>\n",
       "      <td>3.000000</td>\n",
       "      <td>38.000000</td>\n",
       "      <td>1.000000</td>\n",
       "      <td>0.000000</td>\n",
       "      <td>31.000000</td>\n",
       "    </tr>\n",
       "    <tr>\n",
       "      <th>max</th>\n",
       "      <td>891.000000</td>\n",
       "      <td>1.000000</td>\n",
       "      <td>3.000000</td>\n",
       "      <td>80.000000</td>\n",
       "      <td>8.000000</td>\n",
       "      <td>6.000000</td>\n",
       "      <td>512.329200</td>\n",
       "    </tr>\n",
       "  </tbody>\n",
       "</table>\n",
       "</div>"
      ],
      "text/plain": [
       "       PassengerId    Survived      Pclass         Age       SibSp  \\\n",
       "count   891.000000  891.000000  891.000000  714.000000  891.000000   \n",
       "mean    446.000000    0.383838    2.308642   29.699118    0.523008   \n",
       "std     257.353842    0.486592    0.836071   14.526497    1.102743   \n",
       "min       1.000000    0.000000    1.000000    0.420000    0.000000   \n",
       "25%     223.500000    0.000000    2.000000   20.125000    0.000000   \n",
       "50%     446.000000    0.000000    3.000000   28.000000    0.000000   \n",
       "75%     668.500000    1.000000    3.000000   38.000000    1.000000   \n",
       "max     891.000000    1.000000    3.000000   80.000000    8.000000   \n",
       "\n",
       "            Parch        Fare  \n",
       "count  891.000000  891.000000  \n",
       "mean     0.381594   32.204208  \n",
       "std      0.806057   49.693429  \n",
       "min      0.000000    0.000000  \n",
       "25%      0.000000    7.910400  \n",
       "50%      0.000000   14.454200  \n",
       "75%      0.000000   31.000000  \n",
       "max      6.000000  512.329200  "
      ]
     },
     "execution_count": 9,
     "metadata": {},
     "output_type": "execute_result"
    }
   ],
   "source": [
    "# get discriptive statistcs on \"number\" datatypes\n",
    "df.describe(include=['number'])"
   ]
  },
  {
   "cell_type": "code",
   "execution_count": 11,
   "id": "d6292119",
   "metadata": {},
   "outputs": [
    {
     "data": {
      "text/plain": [
       "0    0.616162\n",
       "1    0.383838\n",
       "Name: Survived, dtype: float64"
      ]
     },
     "execution_count": 11,
     "metadata": {},
     "output_type": "execute_result"
    }
   ],
   "source": [
    "df.Survived.value_counts(normalize=True)"
   ]
  },
  {
   "cell_type": "code",
   "execution_count": 12,
   "id": "98ebb2d7",
   "metadata": {},
   "outputs": [
    {
     "name": "stderr",
     "output_type": "stream",
     "text": [
      "C:\\Users\\Hamza_Mustafa\\anaconda3\\lib\\site-packages\\seaborn\\_decorators.py:36: FutureWarning: Pass the following variable as a keyword arg: x. From version 0.12, the only valid positional argument will be `data`, and passing other arguments without an explicit keyword will result in an error or misinterpretation.\n",
      "  warnings.warn(\n",
      "C:\\Users\\Hamza_Mustafa\\anaconda3\\lib\\site-packages\\seaborn\\_decorators.py:36: FutureWarning: Pass the following variable as a keyword arg: x. From version 0.12, the only valid positional argument will be `data`, and passing other arguments without an explicit keyword will result in an error or misinterpretation.\n",
      "  warnings.warn(\n",
      "C:\\Users\\Hamza_Mustafa\\anaconda3\\lib\\site-packages\\seaborn\\_decorators.py:36: FutureWarning: Pass the following variable as a keyword arg: x. From version 0.12, the only valid positional argument will be `data`, and passing other arguments without an explicit keyword will result in an error or misinterpretation.\n",
      "  warnings.warn(\n",
      "C:\\Users\\Hamza_Mustafa\\anaconda3\\lib\\site-packages\\seaborn\\_decorators.py:36: FutureWarning: Pass the following variable as a keyword arg: x. From version 0.12, the only valid positional argument will be `data`, and passing other arguments without an explicit keyword will result in an error or misinterpretation.\n",
      "  warnings.warn(\n",
      "C:\\Users\\Hamza_Mustafa\\anaconda3\\lib\\site-packages\\seaborn\\_decorators.py:36: FutureWarning: Pass the following variable as a keyword arg: x. From version 0.12, the only valid positional argument will be `data`, and passing other arguments without an explicit keyword will result in an error or misinterpretation.\n",
      "  warnings.warn(\n",
      "C:\\Users\\Hamza_Mustafa\\anaconda3\\lib\\site-packages\\seaborn\\_decorators.py:36: FutureWarning: Pass the following variable as a keyword arg: x. From version 0.12, the only valid positional argument will be `data`, and passing other arguments without an explicit keyword will result in an error or misinterpretation.\n",
      "  warnings.warn(\n",
      "C:\\Users\\Hamza_Mustafa\\anaconda3\\lib\\site-packages\\seaborn\\distributions.py:2619: FutureWarning: `distplot` is a deprecated function and will be removed in a future version. Please adapt your code to use either `displot` (a figure-level function with similar flexibility) or `histplot` (an axes-level function for histograms).\n",
      "  warnings.warn(msg, FutureWarning)\n",
      "C:\\Users\\Hamza_Mustafa\\anaconda3\\lib\\site-packages\\seaborn\\distributions.py:2619: FutureWarning: `distplot` is a deprecated function and will be removed in a future version. Please adapt your code to use either `displot` (a figure-level function with similar flexibility) or `histplot` (an axes-level function for histograms).\n",
      "  warnings.warn(msg, FutureWarning)\n"
     ]
    },
    {
     "data": {
      "text/plain": [
       "<AxesSubplot:xlabel='Age', ylabel='Density'>"
      ]
     },
     "execution_count": 12,
     "metadata": {},
     "output_type": "execute_result"
    },
    {
     "data": {
      "image/png": "[encoded data removed]",
      "text/plain": [
       "<Figure size 1152x720 with 8 Axes>"
      ]
     },
     "metadata": {
      "needs_background": "light"
     },
     "output_type": "display_data"
    }
   ],
   "source": [
    "fig, axes = plt.subplots(2, 4, figsize=(16, 10))\n",
    "sns.countplot('Survived',data=df,ax=axes[0,0])\n",
    "sns.countplot('Pclass',data=df,ax=axes[0,1])\n",
    "sns.countplot('Sex',data=df,ax=axes[0,2])\n",
    "sns.countplot('SibSp',data=df,ax=axes[0,3])\n",
    "sns.countplot('Parch',data=df,ax=axes[1,0])\n",
    "sns.countplot('Embarked',data=df,ax=axes[1,1])\n",
    "sns.distplot(df['Fare'], kde=True,ax=axes[1,2])\n",
    "sns.distplot(df['Age'].dropna(),kde=True,ax=axes[1,3])"
   ]
  },
  {
   "cell_type": "code",
   "execution_count": 13,
   "id": "7243641f",
   "metadata": {},
   "outputs": [],
   "source": [
    "# Transforming the Sex into 0 and 1\n",
    "df['Sex'] = df['Sex'].map({'male': 0, 'female': 1}).astype(int)"
   ]
  },
  {
   "cell_type": "code",
   "execution_count": 14,
   "id": "09bb6289",
   "metadata": {},
   "outputs": [],
   "source": [
    "# Fill missing values in age\n",
    "df['Age'].fillna(df['Age'].median(),inplace=True)"
   ]
  },
  {
   "cell_type": "code",
   "execution_count": 15,
   "id": "92da9f70",
   "metadata": {},
   "outputs": [
    {
     "data": {
      "image/png": "[encoded data removed]",
      "text/plain": [
       "<Figure size 720x576 with 2 Axes>"
      ]
     },
     "metadata": {
      "needs_background": "light"
     },
     "output_type": "display_data"
    }
   ],
   "source": [
    "import seaborn as sns\n",
    "plt.figure(figsize=(10, 8))\n",
    "sns.heatmap(df.corr(), cmap=\"YlGnBu\", annot = True)\n",
    "plt.show()"
   ]
  },
  {
   "cell_type": "code",
   "execution_count": 16,
   "id": "f018f61e",
   "metadata": {},
   "outputs": [
    {
     "data": {
      "text/plain": [
       "<AxesSubplot:xlabel='Sex'>"
      ]
     },
     "execution_count": 16,
     "metadata": {},
     "output_type": "execute_result"
    },
    {
     "data": {
      "image/png": "[encoded data removed]",
      "text/plain": [
       "<Figure size 432x288 with 1 Axes>"
      ]
     },
     "metadata": {
      "needs_background": "light"
     },
     "output_type": "display_data"
    }
   ],
   "source": [
    "df.groupby('Sex').Survived.mean().plot(kind='bar')"
   ]
  },
  {
   "cell_type": "code",
   "execution_count": 40,
   "id": "f1b285d7",
   "metadata": {},
   "outputs": [
    {
     "data": {
      "text/plain": [
       "PassengerId      0\n",
       "Survived         0\n",
       "Pclass           0\n",
       "Name             0\n",
       "Sex              0\n",
       "Age              0\n",
       "SibSp            0\n",
       "Parch            0\n",
       "Ticket           0\n",
       "Fare             0\n",
       "Cabin          687\n",
       "Embarked         2\n",
       "dtype: int64"
      ]
     },
     "execution_count": 40,
     "metadata": {},
     "output_type": "execute_result"
    }
   ],
   "source": [
    "df.isnull().sum()"
   ]
  },
  {
   "cell_type": "markdown",
   "id": "7189d7c7",
   "metadata": {},
   "source": [
    "# Build a model (ANN) in tensorflow/keras"
   ]
  },
  {
   "cell_type": "code",
   "execution_count": 17,
   "id": "dbcdddbe",
   "metadata": {},
   "outputs": [
    {
     "name": "stderr",
     "output_type": "stream",
     "text": [
      "C:\\Users\\Hamza_Mustafa\\anaconda3\\lib\\site-packages\\tensorflow_addons\\utils\\tfa_eol_msg.py:23: UserWarning: \n",
      "\n",
      "TensorFlow Addons (TFA) has ended development and introduction of new features.\n",
      "TFA has entered a minimal maintenance and release mode until a planned end of life in May 2024.\n",
      "Please modify downstream libraries to take dependencies from other repositories in our TensorFlow community (e.g. Keras, Keras-CV, and Keras-NLP). \n",
      "\n",
      "For more information see: https://github.com/tensorflow/addons/issues/2807 \n",
      "\n",
      "  warnings.warn(\n",
      "C:\\Users\\Hamza_Mustafa\\anaconda3\\lib\\site-packages\\tensorflow_addons\\utils\\ensure_tf_install.py:53: UserWarning: Tensorflow Addons supports using Python ops for all Tensorflow versions above or equal to 2.12.0 and strictly below 2.15.0 (nightly versions are not supported). \n",
      " The versions of TensorFlow you are currently using is 2.11.0 and is not supported. \n",
      "Some things might work, some things might not.\n",
      "If you were to encounter a bug, do not file an issue.\n",
      "If you want to make sure you're using a tested and supported configuration, either change the TensorFlow version or the TensorFlow Addons's version. \n",
      "You can find the compatibility matrix in TensorFlow Addon's readme:\n",
      "https://github.com/tensorflow/addons\n",
      "  warnings.warn(\n"
     ]
    }
   ],
   "source": [
    "from tensorflow_addons import losses"
   ]
  },
  {
   "cell_type": "code",
   "execution_count": 18,
   "id": "decb2a55",
   "metadata": {},
   "outputs": [],
   "source": [
    "import tensorflow as tf\n",
    "from tensorflow import keras\n",
    "from sklearn.metrics import confusion_matrix , classification_report"
   ]
  },
  {
   "cell_type": "code",
   "execution_count": 46,
   "id": "d1c69bbc",
   "metadata": {},
   "outputs": [],
   "source": [
    "def ANN(X_train, y_train, X_test, y_test, loss, weights):\n",
    "    model = keras.Sequential([\n",
    "        keras.layers.Dense(712, input_dim=6, activation='relu'),\n",
    "        keras.layers.Dense(356, activation='relu'),\n",
    "        keras.layers.Dense(1, activation='sigmoid')\n",
    "    ])\n",
    "\n",
    "    model.compile(optimizer='adam', loss=loss, metrics=['accuracy'])\n",
    "    \n",
    "    if weights == -1:\n",
    "        model.fit(X_train, y_train, epochs=100)\n",
    "    else:\n",
    "        model.fit(X_train, y_train, epochs=100, class_weight = weights)\n",
    "    \n",
    "    print(model.evaluate(X_test, y_test))\n",
    "    \n",
    "    y_preds = model.predict(X_test)\n",
    "    y_preds = np.round(y_preds)\n",
    "    \n",
    "    print(\"Classification Report: \\n\", classification_report(y_test, y_preds))\n",
    "    \n",
    "    return y_preds"
   ]
  },
  {
   "cell_type": "code",
   "execution_count": 47,
   "id": "f1255630",
   "metadata": {},
   "outputs": [],
   "source": [
    "X = df[['Pclass', 'Age', 'SibSp', 'Parch', 'Fare', 'Sex']]\n",
    "# X = df[['Age', 'Sex']]\n",
    "y = df['Survived']"
   ]
  },
  {
   "cell_type": "code",
   "execution_count": 48,
   "id": "b1b52beb",
   "metadata": {},
   "outputs": [],
   "source": [
    "# Split the data into training and testing sets\n",
    "from sklearn.model_selection import train_test_split\n",
    "X_train, X_test, y_train, y_test = train_test_split(X, y, test_size=0.2, random_state=13)"
   ]
  },
  {
   "cell_type": "code",
   "execution_count": 49,
   "id": "fe18d765",
   "metadata": {},
   "outputs": [
    {
     "data": {
      "text/plain": [
       "(712, 6)"
      ]
     },
     "execution_count": 49,
     "metadata": {},
     "output_type": "execute_result"
    }
   ],
   "source": [
    "X_train.shape"
   ]
  },
  {
   "cell_type": "code",
   "execution_count": 55,
   "id": "6e84faea",
   "metadata": {},
   "outputs": [
    {
     "name": "stdout",
     "output_type": "stream",
     "text": [
      "Epoch 1/100\n",
      "23/23 [==============================] - 1s 4ms/step - loss: 2.1179 - accuracy: 0.5829\n",
      "Epoch 2/100\n",
      "23/23 [==============================] - 0s 4ms/step - loss: 1.0066 - accuracy: 0.6194\n",
      "Epoch 3/100\n",
      "23/23 [==============================] - 0s 4ms/step - loss: 0.7095 - accuracy: 0.6770\n",
      "Epoch 4/100\n",
      "23/23 [==============================] - 0s 4ms/step - loss: 0.5707 - accuracy: 0.7107\n",
      "Epoch 5/100\n",
      "23/23 [==============================] - 0s 5ms/step - loss: 0.5648 - accuracy: 0.7247\n",
      "Epoch 6/100\n",
      "23/23 [==============================] - 0s 4ms/step - loss: 0.6402 - accuracy: 0.6966\n",
      "Epoch 7/100\n",
      "23/23 [==============================] - 0s 4ms/step - loss: 0.5862 - accuracy: 0.7177\n",
      "Epoch 8/100\n",
      "23/23 [==============================] - 0s 4ms/step - loss: 0.5360 - accuracy: 0.7528\n",
      "Epoch 9/100\n",
      "23/23 [==============================] - 0s 5ms/step - loss: 0.5741 - accuracy: 0.7416\n",
      "Epoch 10/100\n",
      "23/23 [==============================] - 0s 5ms/step - loss: 0.4877 - accuracy: 0.7823\n",
      "Epoch 11/100\n",
      "23/23 [==============================] - 0s 5ms/step - loss: 0.5325 - accuracy: 0.7669\n",
      "Epoch 12/100\n",
      "23/23 [==============================] - 0s 4ms/step - loss: 0.5267 - accuracy: 0.7570\n",
      "Epoch 13/100\n",
      "23/23 [==============================] - 0s 4ms/step - loss: 0.5748 - accuracy: 0.7612\n",
      "Epoch 14/100\n",
      "23/23 [==============================] - 0s 5ms/step - loss: 0.6646 - accuracy: 0.7303\n",
      "Epoch 15/100\n",
      "23/23 [==============================] - 0s 4ms/step - loss: 0.5554 - accuracy: 0.7739\n",
      "Epoch 16/100\n",
      "23/23 [==============================] - 0s 4ms/step - loss: 0.4495 - accuracy: 0.7935\n",
      "Epoch 17/100\n",
      "23/23 [==============================] - 0s 5ms/step - loss: 0.4588 - accuracy: 0.8006\n",
      "Epoch 18/100\n",
      "23/23 [==============================] - 0s 6ms/step - loss: 0.4624 - accuracy: 0.7935\n",
      "Epoch 19/100\n",
      "23/23 [==============================] - 0s 5ms/step - loss: 0.5096 - accuracy: 0.7767\n",
      "Epoch 20/100\n",
      "23/23 [==============================] - 0s 5ms/step - loss: 0.4998 - accuracy: 0.7935\n",
      "Epoch 21/100\n",
      "23/23 [==============================] - 0s 5ms/step - loss: 0.4530 - accuracy: 0.8090\n",
      "Epoch 22/100\n",
      "23/23 [==============================] - 0s 5ms/step - loss: 0.5644 - accuracy: 0.7598\n",
      "Epoch 23/100\n",
      "23/23 [==============================] - 0s 4ms/step - loss: 0.5024 - accuracy: 0.7907\n",
      "Epoch 24/100\n",
      "23/23 [==============================] - 0s 4ms/step - loss: 0.4397 - accuracy: 0.8076\n",
      "Epoch 25/100\n",
      "23/23 [==============================] - 0s 4ms/step - loss: 0.4527 - accuracy: 0.8132\n",
      "Epoch 26/100\n",
      "23/23 [==============================] - 0s 4ms/step - loss: 0.4843 - accuracy: 0.7823\n",
      "Epoch 27/100\n",
      "23/23 [==============================] - 0s 4ms/step - loss: 0.5350 - accuracy: 0.7837\n",
      "Epoch 28/100\n",
      "23/23 [==============================] - 0s 4ms/step - loss: 0.4317 - accuracy: 0.8034\n",
      "Epoch 29/100\n",
      "23/23 [==============================] - 0s 4ms/step - loss: 0.4262 - accuracy: 0.8076\n",
      "Epoch 30/100\n",
      "23/23 [==============================] - 0s 4ms/step - loss: 0.4280 - accuracy: 0.8118\n",
      "Epoch 31/100\n",
      "23/23 [==============================] - 0s 4ms/step - loss: 0.4403 - accuracy: 0.8062\n",
      "Epoch 32/100\n",
      "23/23 [==============================] - 0s 4ms/step - loss: 0.4388 - accuracy: 0.7978\n",
      "Epoch 33/100\n",
      "23/23 [==============================] - 0s 4ms/step - loss: 0.6724 - accuracy: 0.7626\n",
      "Epoch 34/100\n",
      "23/23 [==============================] - 0s 5ms/step - loss: 0.5283 - accuracy: 0.7795\n",
      "Epoch 35/100\n",
      "23/23 [==============================] - 0s 4ms/step - loss: 0.4540 - accuracy: 0.8090\n",
      "Epoch 36/100\n",
      "23/23 [==============================] - 0s 4ms/step - loss: 0.4252 - accuracy: 0.8174\n",
      "Epoch 37/100\n",
      "23/23 [==============================] - 0s 4ms/step - loss: 0.4319 - accuracy: 0.8132\n",
      "Epoch 38/100\n",
      "23/23 [==============================] - 0s 6ms/step - loss: 0.4808 - accuracy: 0.7781\n",
      "Epoch 39/100\n",
      "23/23 [==============================] - 0s 6ms/step - loss: 0.5185 - accuracy: 0.7893\n",
      "Epoch 40/100\n",
      "23/23 [==============================] - 0s 6ms/step - loss: 0.4544 - accuracy: 0.8006\n",
      "Epoch 41/100\n",
      "23/23 [==============================] - 0s 6ms/step - loss: 0.4280 - accuracy: 0.8104\n",
      "Epoch 42/100\n",
      "23/23 [==============================] - 0s 5ms/step - loss: 0.4141 - accuracy: 0.8202\n",
      "Epoch 43/100\n",
      "23/23 [==============================] - 0s 5ms/step - loss: 0.4468 - accuracy: 0.8006\n",
      "Epoch 44/100\n",
      "23/23 [==============================] - 0s 4ms/step - loss: 0.4275 - accuracy: 0.8006\n",
      "Epoch 45/100\n",
      "23/23 [==============================] - 0s 4ms/step - loss: 0.4318 - accuracy: 0.8048\n",
      "Epoch 46/100\n",
      "23/23 [==============================] - 0s 4ms/step - loss: 0.4297 - accuracy: 0.8174\n",
      "Epoch 47/100\n",
      "23/23 [==============================] - 0s 4ms/step - loss: 0.4144 - accuracy: 0.8230\n",
      "Epoch 48/100\n",
      "23/23 [==============================] - 0s 4ms/step - loss: 0.4567 - accuracy: 0.8048\n",
      "Epoch 49/100\n",
      "23/23 [==============================] - 0s 4ms/step - loss: 0.4420 - accuracy: 0.7992\n",
      "Epoch 50/100\n",
      "23/23 [==============================] - 0s 4ms/step - loss: 0.4558 - accuracy: 0.7992\n",
      "Epoch 51/100\n",
      "23/23 [==============================] - 0s 4ms/step - loss: 0.4193 - accuracy: 0.8132\n",
      "Epoch 52/100\n",
      "23/23 [==============================] - 0s 4ms/step - loss: 0.4123 - accuracy: 0.8160\n",
      "Epoch 53/100\n",
      "23/23 [==============================] - 0s 5ms/step - loss: 0.4067 - accuracy: 0.8244\n",
      "Epoch 54/100\n",
      "23/23 [==============================] - 0s 5ms/step - loss: 0.4080 - accuracy: 0.8132\n",
      "Epoch 55/100\n",
      "23/23 [==============================] - 0s 5ms/step - loss: 0.4379 - accuracy: 0.8048\n",
      "Epoch 56/100\n",
      "23/23 [==============================] - 0s 5ms/step - loss: 0.4332 - accuracy: 0.8272\n",
      "Epoch 57/100\n",
      "23/23 [==============================] - 0s 5ms/step - loss: 0.4024 - accuracy: 0.8287\n",
      "Epoch 58/100\n",
      "23/23 [==============================] - 0s 4ms/step - loss: 0.3991 - accuracy: 0.8244\n",
      "Epoch 59/100\n",
      "23/23 [==============================] - 0s 4ms/step - loss: 0.4564 - accuracy: 0.8216\n",
      "Epoch 60/100\n",
      "23/23 [==============================] - 0s 4ms/step - loss: 0.4710 - accuracy: 0.8090\n",
      "Epoch 61/100\n",
      "23/23 [==============================] - 0s 5ms/step - loss: 0.4616 - accuracy: 0.8034\n",
      "Epoch 62/100\n",
      "23/23 [==============================] - 0s 4ms/step - loss: 0.4178 - accuracy: 0.8230\n",
      "Epoch 63/100\n",
      "23/23 [==============================] - 0s 4ms/step - loss: 0.4166 - accuracy: 0.8188\n",
      "Epoch 64/100\n",
      "23/23 [==============================] - 0s 4ms/step - loss: 0.3985 - accuracy: 0.8258\n",
      "Epoch 65/100\n",
      "23/23 [==============================] - 0s 4ms/step - loss: 0.4107 - accuracy: 0.8174\n",
      "Epoch 66/100\n",
      "23/23 [==============================] - 0s 4ms/step - loss: 0.4567 - accuracy: 0.7949\n",
      "Epoch 67/100\n",
      "23/23 [==============================] - 0s 4ms/step - loss: 0.4053 - accuracy: 0.8329\n",
      "Epoch 68/100\n",
      "23/23 [==============================] - 0s 4ms/step - loss: 0.3950 - accuracy: 0.8357\n",
      "Epoch 69/100\n",
      "23/23 [==============================] - 0s 4ms/step - loss: 0.3960 - accuracy: 0.8258\n",
      "Epoch 70/100\n",
      "23/23 [==============================] - 0s 6ms/step - loss: 0.3961 - accuracy: 0.8188\n",
      "Epoch 71/100\n",
      "23/23 [==============================] - 0s 6ms/step - loss: 0.3949 - accuracy: 0.8357\n",
      "Epoch 72/100\n",
      "23/23 [==============================] - 0s 5ms/step - loss: 0.4311 - accuracy: 0.8230\n",
      "Epoch 73/100\n",
      "23/23 [==============================] - 0s 5ms/step - loss: 0.3939 - accuracy: 0.8244\n",
      "Epoch 74/100\n",
      "23/23 [==============================] - 0s 6ms/step - loss: 0.3976 - accuracy: 0.8258\n",
      "Epoch 75/100\n",
      "23/23 [==============================] - 0s 5ms/step - loss: 0.4327 - accuracy: 0.8090\n",
      "Epoch 76/100\n",
      "23/23 [==============================] - 0s 5ms/step - loss: 0.4037 - accuracy: 0.8244\n",
      "Epoch 77/100\n",
      "23/23 [==============================] - 0s 5ms/step - loss: 0.4115 - accuracy: 0.8230\n",
      "Epoch 78/100\n",
      "23/23 [==============================] - 0s 5ms/step - loss: 0.4078 - accuracy: 0.8230\n",
      "Epoch 79/100\n",
      "23/23 [==============================] - 0s 5ms/step - loss: 0.4210 - accuracy: 0.8244\n",
      "Epoch 80/100\n",
      "23/23 [==============================] - 0s 5ms/step - loss: 0.4123 - accuracy: 0.8244\n",
      "Epoch 81/100\n",
      "23/23 [==============================] - 0s 4ms/step - loss: 0.4205 - accuracy: 0.8062\n",
      "Epoch 82/100\n",
      "23/23 [==============================] - 0s 4ms/step - loss: 0.3981 - accuracy: 0.8230\n",
      "Epoch 83/100\n"
     ]
    },
    {
     "name": "stdout",
     "output_type": "stream",
     "text": [
      "23/23 [==============================] - 0s 4ms/step - loss: 0.4115 - accuracy: 0.8202\n",
      "Epoch 84/100\n",
      "23/23 [==============================] - 0s 4ms/step - loss: 0.4051 - accuracy: 0.8174\n",
      "Epoch 85/100\n",
      "23/23 [==============================] - 0s 4ms/step - loss: 0.4144 - accuracy: 0.8202\n",
      "Epoch 86/100\n",
      "23/23 [==============================] - 0s 4ms/step - loss: 0.3895 - accuracy: 0.8244\n",
      "Epoch 87/100\n",
      "23/23 [==============================] - 0s 4ms/step - loss: 0.4022 - accuracy: 0.8174\n",
      "Epoch 88/100\n",
      "23/23 [==============================] - 0s 4ms/step - loss: 0.3835 - accuracy: 0.8315\n",
      "Epoch 89/100\n",
      "23/23 [==============================] - 0s 4ms/step - loss: 0.4130 - accuracy: 0.8118\n",
      "Epoch 90/100\n",
      "23/23 [==============================] - 0s 4ms/step - loss: 0.4051 - accuracy: 0.8315\n",
      "Epoch 91/100\n",
      "23/23 [==============================] - 0s 4ms/step - loss: 0.4078 - accuracy: 0.8287\n",
      "Epoch 92/100\n",
      "23/23 [==============================] - 0s 4ms/step - loss: 0.4029 - accuracy: 0.8132\n",
      "Epoch 93/100\n",
      "23/23 [==============================] - 0s 4ms/step - loss: 0.3824 - accuracy: 0.8301\n",
      "Epoch 94/100\n",
      "23/23 [==============================] - 0s 4ms/step - loss: 0.3918 - accuracy: 0.8272\n",
      "Epoch 95/100\n",
      "23/23 [==============================] - 0s 4ms/step - loss: 0.4393 - accuracy: 0.8216\n",
      "Epoch 96/100\n",
      "23/23 [==============================] - 0s 4ms/step - loss: 0.4208 - accuracy: 0.8132\n",
      "Epoch 97/100\n",
      "23/23 [==============================] - 0s 4ms/step - loss: 0.4119 - accuracy: 0.8287\n",
      "Epoch 98/100\n",
      "23/23 [==============================] - 0s 4ms/step - loss: 0.4068 - accuracy: 0.8216\n",
      "Epoch 99/100\n",
      "23/23 [==============================] - 0s 4ms/step - loss: 0.4048 - accuracy: 0.8202\n",
      "Epoch 100/100\n",
      "23/23 [==============================] - 0s 4ms/step - loss: 0.3850 - accuracy: 0.8385\n",
      "6/6 [==============================] - 0s 6ms/step - loss: 0.4547 - accuracy: 0.8324\n",
      "[0.4547325372695923, 0.832402229309082]\n",
      "6/6 [==============================] - 0s 4ms/step\n",
      "Classification Report: \n",
      "               precision    recall  f1-score   support\n",
      "\n",
      "           0       0.85      0.88      0.87       110\n",
      "           1       0.80      0.75      0.78        69\n",
      "\n",
      "    accuracy                           0.83       179\n",
      "   macro avg       0.83      0.82      0.82       179\n",
      "weighted avg       0.83      0.83      0.83       179\n",
      "\n"
     ]
    }
   ],
   "source": [
    "y_preds = ANN(X_train, y_train, X_test, y_test, 'binary_crossentropy', -1)"
   ]
  },
  {
   "cell_type": "code",
   "execution_count": null,
   "id": "44567a65",
   "metadata": {},
   "outputs": [],
   "source": []
  }
 ],
 "metadata": {
  "kernelspec": {
   "display_name": "Python 3 (ipykernel)",
   "language": "python",
   "name": "python3"
  },
  "language_info": {
   "codemirror_mode": {
    "name": "ipython",
    "version": 3
   },
   "file_extension": ".py",
   "mimetype": "text/x-python",
   "name": "python",
   "nbconvert_exporter": "python",
   "pygments_lexer": "ipython3",
   "version": "3.9.12"
  }
 },
 "nbformat": 4,
 "nbformat_minor": 5
}
