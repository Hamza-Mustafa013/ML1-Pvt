{
 "cells": [
  {
   "cell_type": "code",
   "execution_count": 40,
   "id": "8cf84646",
   "metadata": {},
   "outputs": [
    {
     "name": "stdout",
     "output_type": "stream",
     "text": [
      "Enter Option 1.enqueue, 2.pop, 3.exit: enqueue\n",
      "Enter number that you want to add in queue: 10\n",
      "Queue:  [10]\n",
      "Choose correct option\n",
      "Enter Option 1.enqueue, 2.pop, 3.exit: enqueue\n",
      "Enter number that you want to add in queue: 20\n",
      "Queue:  [10, 20]\n",
      "Choose correct option\n",
      "Enter Option 1.enqueue, 2.pop, 3.exit: enqueue\n",
      "Enter number that you want to add in queue: 30\n",
      "Queue:  [10, 20, 30]\n",
      "Choose correct option\n",
      "Enter Option 1.enqueue, 2.pop, 3.exit: enqueue\n",
      "Enter number that you want to add in queue: 40\n",
      "Queue:  [10, 20, 30, 40]\n",
      "Choose correct option\n",
      "Enter Option 1.enqueue, 2.pop, 3.exit: pop\n",
      "Queue after removing: [20, 30, 40]\n",
      "Choose correct option\n",
      "Enter Option 1.enqueue, 2.pop, 3.exit: pop\n",
      "Queue after removing: [30, 40]\n",
      "Choose correct option\n",
      "Enter Option 1.enqueue, 2.pop, 3.exit: exit\n"
     ]
    }
   ],
   "source": [
    "queue = []\n",
    "\n",
    "def enqueue(num):\n",
    "    if len(queue) == 10:\n",
    "        print(\"Queue is full\")\n",
    "    else:\n",
    "        queue.append(num)\n",
    "        print(\"Queue: \",queue)\n",
    "\n",
    "def dequeue():\n",
    "    if len(queue) == 0:\n",
    "        print(\"Queue is empty\")\n",
    "    else:\n",
    "        removed_item = queue.pop(0)\n",
    "        print(\"Queue after removing:\", queue)\n",
    "        return removed_item\n",
    "\n",
    "\n",
    "index = 0\n",
    "for i in range(50):\n",
    "    options = input(\"Enter Option 1.enqueue, 2.pop, 3.exit: \")\n",
    "    if options == \"enqueue\":\n",
    "        if index < 10:\n",
    "            number = int(input(\"Enter number that you want to add in queue: \"))\n",
    "            enqueue(number)\n",
    "\n",
    "    if options == \"pop\":\n",
    "        dequeue()\n",
    "    if options == \"exit\":\n",
    "        break"
   ]
  },
  {
   "cell_type": "code",
   "execution_count": null,
   "id": "cf9cf618",
   "metadata": {},
   "outputs": [],
   "source": []
  }
 ],
 "metadata": {
  "kernelspec": {
   "display_name": "Python 3 (ipykernel)",
   "language": "python",
   "name": "python3"
  },
  "language_info": {
   "codemirror_mode": {
    "name": "ipython",
    "version": 3
   },
   "file_extension": ".py",
   "mimetype": "text/x-python",
   "name": "python",
   "nbconvert_exporter": "python",
   "pygments_lexer": "ipython3",
   "version": "3.9.12"
  }
 },
 "nbformat": 4,
 "nbformat_minor": 5
}
